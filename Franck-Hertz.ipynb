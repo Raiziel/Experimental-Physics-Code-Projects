{
 "cells": [
  {
   "cell_type": "code",
   "execution_count": 1,
   "metadata": {},
   "outputs": [],
   "source": [
    "V_applied = [0,0.5,\n",
    "             1,1.5,\n",
    "             2,2.5,\n",
    "             3,3.5\n",
    "             ,4,4.5\n",
    "             ,5,5.5\n",
    "             ,6,6.5\n",
    "             ,7,7.5\n",
    "             ,8,8.5\n",
    "             ,9,9.5\n",
    "             ,10,10.5\n",
    "             ,11,11.5\n",
    "             ,12,12.5\n",
    "             ,13,13.5\n",
    "             ,14,14.5\n",
    "             ,15,15.5\n",
    "             ,16,16.5\n",
    "             ,17,17.5\n",
    "             ,18,18.5\n",
    "             ,19,19.5\n",
    "             ,20,20.5\n",
    "             ,21,21.5\n",
    "             ,22,22.5\n",
    "             ,23,23.5\n",
    "             ,24,24.5\n",
    "             ,25,25.5\n",
    "             ,26,26.5\n",
    "             ,27,27.5\n",
    "             ,28,28.5\n",
    "             ,29,29.5\n",
    "             ,30,30.5\n",
    "             ,31,31.5\n",
    "             ,32,32.5\n",
    "             ,33,33.5\n",
    "             ,34,34.5,\n",
    "             35,35.5\n",
    "             ]\n",
    "\n",
    "\n",
    "\n",
    "\n",
    "I_measured = [0,\n",
    "0.03,\n",
    "0.03,\n",
    "0.04,\n",
    "0.05,\n",
    "0.06,\n",
    "0.07,\n",
    "0.08,\n",
    "0.1,\n",
    "0.11,\n",
    "0.14,\n",
    "0.18,\n",
    "0.23,\n",
    "0.31,\n",
    "0.46,\n",
    "0.63,\n",
    "0.74,\n",
    "0.81,\n",
    "0.84,\n",
    "0.84,\n",
    "0.86,\n",
    "0.91,\n",
    "1,\n",
    "1.26,\n",
    "1.62,\n",
    "1.89,\n",
    "2.34,\n",
    "2.33,\n",
    "2.27,\n",
    "2.33,\n",
    "2.54,\n",
    "2.86,\n",
    "3.05,\n",
    "4.2,\n",
    "4.87,\n",
    "4.88,\n",
    "4.53,\n",
    "4.03,\n",
    "3.89,\n",
    "4.2,\n",
    "5.1,\n",
    "6.83,\n",
    "9.11,\n",
    "12.58,\n",
    "12.4,\n",
    "10.3,\n",
    "6.8,\n",
    "6.03,\n",
    "5.89,\n",
    "6.58,\n",
    "9.43,\n",
    "9.36,\n",
    "17.44,\n",
    "15.21,\n",
    "14.33,\n",
    "12.03,\n",
    "10.05,\n",
    "9.33,\n",
    "9.81,\n",
    "11.65,\n",
    "15.04,\n",
    "18.51,\n",
    "24.87,\n",
    "26.28,\n",
    "20.93,\n",
    "16.99,\n",
    "14.45,\n",
    "13.99,\n",
    "16.37,\n",
    "19.93,\n",
    "22.96,\n",
    "26.99]"
   ]
  },
  {
   "cell_type": "code",
   "execution_count": 98,
   "metadata": {},
   "outputs": [
    {
     "data": {
      "image/png": "[encoded data removed]",
      "text/plain": [
       "<Figure size 432x288 with 1 Axes>"
      ]
     },
     "metadata": {
      "needs_background": "light"
     },
     "output_type": "display_data"
    },
    {
     "name": "stdout",
     "output_type": "stream",
     "text": [
      "        2\n",
      "0.0214 x - 0.1297 x + 0.1811\n"
     ]
    }
   ],
   "source": [
    "import statistics \n",
    "import numpy\n",
    "import math\n",
    "import numpy as np\n",
    "from numpy import log as ln\n",
    "import matplotlib.mlab as mlab\n",
    "import matplotlib.pyplot as plt\n",
    "from scipy.optimize import minimize\n",
    "from scipy.integrate import quad \n",
    "from scipy.stats import chisquare\n",
    "from scipy.misc import derivative\n",
    "x = np.array(V_applied)\n",
    "y = np.array(I_measured)\n",
    "plt.xlim((15,24))\n",
    "z = np.polyfit(x, y, 2)\n",
    "p = np.poly1d(z)\n",
    "import matplotlib.pyplot as plt\n",
    "xp = np.linspace(0, 35.5, 72)\n",
    "p1 = np.poly1d(np.polyfit(x, y, 2))\n",
    "plt.plot(x, y, '-', xp, p(xp), '-', xp, p1(xp), '-')\n",
    "plt.show()\n",
    "#print(p)\n",
    "print(p1)"
   ]
  },
  {
   "cell_type": "code",
   "execution_count": 45,
   "metadata": {},
   "outputs": [],
   "source": [
    "def RandCoord(x_min, x_max, y_min, y_max):\n",
    "    x0 = x_min + np.random.random()*(x_max-x_min)\n",
    "    y0 = y_min + np.random.random()*(y_max-y_min)\n",
    "    return [x0, y0]"
   ]
  },
  {
   "cell_type": "code",
   "execution_count": 47,
   "metadata": {},
   "outputs": [],
   "source": [
    "def f(x):\n",
    "    return 0.0214*x[0]**2 - 0.1297*x[0] + 0.1811"
   ]
  },
  {
   "cell_type": "code",
   "execution_count": 48,
   "metadata": {},
   "outputs": [
    {
     "name": "stdout",
     "output_type": "stream",
     "text": [
      "Optimization terminated successfully.\n",
      "         Current function value: -0.015420\n",
      "         Iterations: 65\n",
      "         Function evaluations: 131\n",
      "         Seconds elapsed: 0.007030\n"
     ]
    }
   ],
   "source": [
    "import time\n",
    "from scipy.optimize import minimize\n",
    "\n",
    "[x0, y0] = RandCoord(min(V_applied),max(V_applied),min(I_measured),max(I_measured))\n",
    "\n",
    "timer_start = time.perf_counter() # start of timer\n",
    "res = minimize(f, [x0,y0], method='nelder-mead', tol=1e-4, options={'disp': True})\n",
    "timer_end = time.perf_counter() # end timer\n",
    "time = timer_end - timer_start\n",
    "print(\"         Seconds elapsed: {:0.6f}\".format(time))\n",
    "plt.plo"
   ]
  },
  {
   "cell_type": "code",
   "execution_count": 83,
   "metadata": {},
   "outputs": [],
   "source": [
    "V2_applied=[0.5,0.5,0.5,0.4,0.5,0.6,0.5,0.6,0.7,0.8,0.9,1.1,1.2,1.4,1.7,1.9,2.1,2.4,3.1,3.5,4.9,5.8,6.6\n",
    " ,7.3,8.1,8.8,9.3,9.9,10.4,11.1,12.1,13.5,15.5,17.2,19.8,22.5,24.3,25.1,25.5,24.1,23.5\n",
    " ,24.1,25.7,29.1,35.7,39.6,41.3,40.9,39.7,37.4,36.6,37.2,39.1,43.8,51.1,58.9,64.8,64,61.8\n",
    " ,60.1,59.5,58.1,60.4,65.5,73.4,79.5,82.7,83.9,81.6,80.4,79.9,87.4\n",
    "]"
   ]
  },
  {
   "cell_type": "code",
   "execution_count": 84,
   "metadata": {},
   "outputs": [],
   "source": [
    "I2_measured=[]\n",
    "for i in V2_applied:\n",
    "    I = np.power(10,9)*i/(np.power(10,10))\n",
    "    I2_measured.append(I)\n",
    "    "
   ]
  },
  {
   "cell_type": "code",
   "execution_count": 72,
   "metadata": {},
   "outputs": [
    {
     "data": {
      "text/plain": [
       "[0.05,\n",
       " 0.05,\n",
       " 0.04,\n",
       " 0.05,\n",
       " 0.06,\n",
       " 0.05,\n",
       " 0.06,\n",
       " 0.07,\n",
       " 0.08,\n",
       " 0.09,\n",
       " 0.11,\n",
       " 0.12,\n",
       " 0.14,\n",
       " 0.17,\n",
       " 0.19,\n",
       " 0.21,\n",
       " 0.24,\n",
       " 0.31,\n",
       " 0.35,\n",
       " 0.49,\n",
       " 0.58,\n",
       " 0.66,\n",
       " 0.73,\n",
       " 0.81,\n",
       " 0.88,\n",
       " 0.93,\n",
       " 0.99,\n",
       " 1.04,\n",
       " 1.11,\n",
       " 1.21,\n",
       " 1.35,\n",
       " 1.55,\n",
       " 1.72,\n",
       " 1.98,\n",
       " 2.25,\n",
       " 2.43,\n",
       " 2.51,\n",
       " 2.55,\n",
       " 2.41,\n",
       " 2.35,\n",
       " 2.41,\n",
       " 2.57,\n",
       " 2.91,\n",
       " 3.57,\n",
       " 3.96,\n",
       " 4.13,\n",
       " 4.09,\n",
       " 3.97,\n",
       " 3.74,\n",
       " 3.66,\n",
       " 3.72,\n",
       " 3.91,\n",
       " 4.38,\n",
       " 5.11,\n",
       " 5.89,\n",
       " 6.48,\n",
       " 6.4,\n",
       " 6.18,\n",
       " 6.01,\n",
       " 5.95,\n",
       " 5.81,\n",
       " 6.04,\n",
       " 6.55,\n",
       " 7.34,\n",
       " 7.95,\n",
       " 8.27,\n",
       " 8.39,\n",
       " 8.16,\n",
       " 8.04,\n",
       " 7.99,\n",
       " 8.74]"
      ]
     },
     "execution_count": 72,
     "metadata": {},
     "output_type": "execute_result"
    }
   ],
   "source": [
    "I2_measured"
   ]
  },
  {
   "cell_type": "code",
   "execution_count": 88,
   "metadata": {},
   "outputs": [
    {
     "data": {
      "text/plain": [
       "<matplotlib.legend.Legend at 0x7fbe25366f28>"
      ]
     },
     "execution_count": 88,
     "metadata": {},
     "output_type": "execute_result"
    },
    {
     "data": {
      "image/png": "[encoded data removed]",
      "text/plain": [
       "<Figure size 432x288 with 1 Axes>"
      ]
     },
     "metadata": {
      "needs_background": "light"
     },
     "output_type": "display_data"
    }
   ],
   "source": [
    "plt.plot(V_applied,I2_measured,label=\"High Temp\")\n",
    "plt.plot(V_applied,I_measured,label=\"Low Temp\")\n",
    "plt.legend()"
   ]
  },
  {
   "cell_type": "code",
   "execution_count": null,
   "metadata": {},
   "outputs": [],
   "source": []
  }
 ],
 "metadata": {
  "kernelspec": {
   "display_name": "Python 3",
   "language": "python",
   "name": "python3"
  },
  "language_info": {
   "codemirror_mode": {
    "name": "ipython",
    "version": 3
   },
   "file_extension": ".py",
   "mimetype": "text/x-python",
   "name": "python",
   "nbconvert_exporter": "python",
   "pygments_lexer": "ipython3",
   "version": "3.7.3"
  }
 },
 "nbformat": 4,
 "nbformat_minor": 2
}
