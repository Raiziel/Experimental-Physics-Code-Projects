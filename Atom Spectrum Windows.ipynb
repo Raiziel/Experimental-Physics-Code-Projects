{
 "cells": [
  {
   "cell_type": "code",
   "execution_count": 2,
   "metadata": {},
   "outputs": [],
   "source": [
    "import statistics \n",
    "import numpy\n",
    "import math\n",
    "import numpy as np\n",
    "from numpy import log as ln\n",
    "import matplotlib.mlab as mlab\n",
    "import matplotlib.pyplot as plt\n",
    "from scipy.optimize import minimize\n",
    "from scipy.integrate import quad \n",
    "from scipy.stats import chisquare\n",
    "from scipy.misc import derivative\n",
    "# mLambda = dsin(theta)\n",
    "\n",
    "mLambda = [-407.83,-437.749,-491.607,-546.074,-576.970]\n",
    "theta = [-9.16,-10.13,-17.5,-19.13,-19.95]\n",
    "set=[1]"
   ]
  },
  {
   "cell_type": "code",
   "execution_count": 3,
   "metadata": {},
   "outputs": [],
   "source": [
    "def ErrorBar(theta):\n",
    "    dx = []\n",
    "    for i in theta:\n",
    "        deriv = derivative(np.sin(theta),n=1,dx=.1)\n",
    "        dx.append(deriv)\n",
    "    return dx"
   ]
  },
  {
   "cell_type": "code",
   "execution_count": 4,
   "metadata": {},
   "outputs": [],
   "source": [
    "def fsin(x):\n",
    "    sinx = []\n",
    "    for i in x:\n",
    "        S = np.cos(i*np.pi/180)\n",
    "        sinx.append(S)\n",
    "    return sinx"
   ]
  },
  {
   "cell_type": "code",
   "execution_count": 5,
   "metadata": {},
   "outputs": [],
   "source": [
    "def farcsin(x):\n",
    "    arcsinx = []\n",
    "    for i in x:\n",
    "        S = np.arcsin(i)\n",
    "        S = S*(180/np.pi)\n",
    "        arcsinx.append(S)\n",
    "    return arcsinx"
   ]
  },
  {
   "cell_type": "code",
   "execution_count": 6,
   "metadata": {},
   "outputs": [
    {
     "data": {
      "text/plain": [
       "[<matplotlib.lines.Line2D at 0x1e168b82438>]"
      ]
     },
     "execution_count": 6,
     "metadata": {},
     "output_type": "execute_result"
    },
    {
     "data": {
      "image/png": "[encoded data removed]",
      "text/plain": [
       "<Figure size 432x288 with 1 Axes>"
      ]
     },
     "metadata": {
      "needs_background": "light"
     },
     "output_type": "display_data"
    }
   ],
   "source": [
    "y = fsin(theta)\n",
    "x = mLambda\n",
    "plt.plot(x,y)"
   ]
  },
  {
   "cell_type": "code",
   "execution_count": 7,
   "metadata": {},
   "outputs": [
    {
     "ename": "TypeError",
     "evalue": "derivative() missing 1 required positional argument: 'x0'",
     "output_type": "error",
     "traceback": [
      "\u001b[1;31m---------------------------------------------------------------------------\u001b[0m",
      "\u001b[1;31mTypeError\u001b[0m                                 Traceback (most recent call last)",
      "\u001b[1;32m<ipython-input-7-6fa3e63c1f9a>\u001b[0m in \u001b[0;36m<module>\u001b[1;34m\u001b[0m\n\u001b[1;32m----> 1\u001b[1;33m \u001b[0mErrorBar\u001b[0m\u001b[1;33m(\u001b[0m\u001b[0mtheta\u001b[0m\u001b[1;33m)\u001b[0m\u001b[1;33m\u001b[0m\u001b[1;33m\u001b[0m\u001b[0m\n\u001b[0m",
      "\u001b[1;32m<ipython-input-3-3cf27853e4fc>\u001b[0m in \u001b[0;36mErrorBar\u001b[1;34m(theta)\u001b[0m\n\u001b[0;32m      2\u001b[0m     \u001b[0mdx\u001b[0m \u001b[1;33m=\u001b[0m \u001b[1;33m[\u001b[0m\u001b[1;33m]\u001b[0m\u001b[1;33m\u001b[0m\u001b[1;33m\u001b[0m\u001b[0m\n\u001b[0;32m      3\u001b[0m     \u001b[1;32mfor\u001b[0m \u001b[0mi\u001b[0m \u001b[1;32min\u001b[0m \u001b[0mtheta\u001b[0m\u001b[1;33m:\u001b[0m\u001b[1;33m\u001b[0m\u001b[1;33m\u001b[0m\u001b[0m\n\u001b[1;32m----> 4\u001b[1;33m         \u001b[0mderiv\u001b[0m \u001b[1;33m=\u001b[0m \u001b[0mderivative\u001b[0m\u001b[1;33m(\u001b[0m\u001b[0mnp\u001b[0m\u001b[1;33m.\u001b[0m\u001b[0msin\u001b[0m\u001b[1;33m(\u001b[0m\u001b[0mtheta\u001b[0m\u001b[1;33m)\u001b[0m\u001b[1;33m,\u001b[0m\u001b[0mn\u001b[0m\u001b[1;33m=\u001b[0m\u001b[1;36m1\u001b[0m\u001b[1;33m,\u001b[0m\u001b[0mdx\u001b[0m\u001b[1;33m=\u001b[0m\u001b[1;36m.1\u001b[0m\u001b[1;33m)\u001b[0m\u001b[1;33m\u001b[0m\u001b[1;33m\u001b[0m\u001b[0m\n\u001b[0m\u001b[0;32m      5\u001b[0m         \u001b[0mdx\u001b[0m\u001b[1;33m.\u001b[0m\u001b[0mappend\u001b[0m\u001b[1;33m(\u001b[0m\u001b[0mderiv\u001b[0m\u001b[1;33m)\u001b[0m\u001b[1;33m\u001b[0m\u001b[1;33m\u001b[0m\u001b[0m\n\u001b[0;32m      6\u001b[0m     \u001b[1;32mreturn\u001b[0m \u001b[0mdx\u001b[0m\u001b[1;33m\u001b[0m\u001b[1;33m\u001b[0m\u001b[0m\n",
      "\u001b[1;31mTypeError\u001b[0m: derivative() missing 1 required positional argument: 'x0'"
     ]
    }
   ],
   "source": [
    "ErrorBar(theta)"
   ]
  },
  {
   "cell_type": "code",
   "execution_count": 8,
   "metadata": {},
   "outputs": [
    {
     "data": {
      "text/plain": [
       "[0.9872476426302981,\n",
       " 0.9844112232220046,\n",
       " 0.9537169507482269,\n",
       " 0.9447774517425483,\n",
       " 0.9399907318200801]"
      ]
     },
     "execution_count": 8,
     "metadata": {},
     "output_type": "execute_result"
    }
   ],
   "source": [
    "fsin(theta)"
   ]
  },
  {
   "cell_type": "code",
   "execution_count": 9,
   "metadata": {},
   "outputs": [],
   "source": [
    "def Resid(y):\n",
    "    fy = []\n",
    "    for i in y:\n",
    "        res = 784.611*i - 287.308\n",
    "        fy.append(res)\n",
    "    return fy\n",
    "    \n"
   ]
  },
  {
   "cell_type": "code",
   "execution_count": 10,
   "metadata": {},
   "outputs": [
    {
     "data": {
      "text/plain": [
       "[487.2973601318008,\n",
       " 485.07187426344024,\n",
       " 460.9888104435171,\n",
       " 453.97478118917263,\n",
       " 450.2190680840848]"
      ]
     },
     "execution_count": 10,
     "metadata": {},
     "output_type": "execute_result"
    }
   ],
   "source": [
    "Resid(fsin(theta))"
   ]
  },
  {
   "cell_type": "code",
   "execution_count": 72,
   "metadata": {},
   "outputs": [
    {
     "data": {
      "text/plain": [
       "[0.9872476426302981,\n",
       " 0.9844112232220046,\n",
       " 0.9537169507482269,\n",
       " 0.9447774517425483,\n",
       " 0.9399907318200801]"
      ]
     },
     "execution_count": 72,
     "metadata": {},
     "output_type": "execute_result"
    }
   ],
   "source": [
    "fsin(theta)"
   ]
  },
  {
   "cell_type": "code",
   "execution_count": 17,
   "metadata": {},
   "outputs": [],
   "source": [
    "l = [435.833,546.074,579.6]\n",
    "a = [4.958333335,2.204166664999999,4.1875]"
   ]
  },
  {
   "cell_type": "code",
   "execution_count": 11,
   "metadata": {},
   "outputs": [],
   "source": [
    "def Function(theta1,theta2):\n",
    "    return (np.sin(theta1-theta2)+np.sin(theta2))"
   ]
  },
  {
   "cell_type": "code",
   "execution_count": 67,
   "metadata": {},
   "outputs": [
    {
     "name": "stdout",
     "output_type": "stream",
     "text": [
      "[7.225626994452014, 2.102850087088422, 6.096874583777767]\n",
      "[ 0.0419018   0.96291034 -1.12846258]\n"
     ]
    }
   ],
   "source": [
    "l = [435.833,546.074,579.6]\n",
    "a = [4.958333335,2.204166664999999,4.1875]\n",
    "a2 = [7.225626994452014, 2.1028500870884215, 6.096874583777767]\n",
    "theta2=[]\n",
    "for i in range(len(a)):\n",
    "     hold=-2*(np.arccos((l[i]/600)/2*np.sin(a[i]/2)) -a[i])\n",
    "     theta2.append(hold)\n",
    "#plt.plot(a,theta2)\n",
    "print(theta2)\n",
    "yarray=[]\n",
    "for i in range(len(a)):\n",
    "    Function(a[i],a2[i])\n",
    "    y = Function(a[i],a2[i])\n",
    "    yarray=np.append(yarray,y)\n",
    "#plt.plot(a)\n",
    "#plt.plot(a2)\n",
    "#print(yarray)\n",
    "darray=[]\n",
    "for i in range(len(l)):\n",
    "    d = l[i]/yarray[i]\n",
    "    darray.append(d)\n",
    "#print(darray)"
   ]
  },
  {
   "cell_type": "code",
   "execution_count": 85,
   "metadata": {},
   "outputs": [
    {
     "name": "stdout",
     "output_type": "stream",
     "text": [
      "614.8152002267747\n"
     ]
    },
    {
     "data": {
      "image/png": "[encoded data removed]",
      "text/plain": [
       "<Figure size 432x288 with 1 Axes>"
      ]
     },
     "metadata": {
      "needs_background": "light"
     },
     "output_type": "display_data"
    },
    {
     "name": "stdout",
     "output_type": "stream",
     "text": [
      "        2\n",
      "-73.86 x + 489 x - 172.9\n"
     ]
    }
   ],
   "source": [
    "\n",
    "x = np.array([4.958333335,2.204166664999999,4.1875])\n",
    "y = np.array([435.833,546.074,579.6])\n",
    "z = np.polyfit(x, y, 1)\n",
    "p = np.poly1d(z)\n",
    "import matplotlib.pyplot as plt\n",
    "xp = np.linspace(-2, 6, 300)\n",
    "print(p(0.5))\n",
    "p1 = np.poly1d(np.polyfit(x, y, 2))\n",
    "plt.plot(x, y, '.', xp, p(xp), '-', xp, p1(xp), '--')\n",
    "plt.show()\n",
    "#print(p)\n",
    "print(p1)"
   ]
  },
  {
   "cell_type": "code",
   "execution_count": 58,
   "metadata": {},
   "outputs": [
    {
     "data": {
      "image/png": "[encoded data removed]",
      "text/plain": [
       "<Figure size 720x432 with 1 Axes>"
      ]
     },
     "metadata": {
      "needs_background": "light"
     },
     "output_type": "display_data"
    },
    {
     "name": "stdout",
     "output_type": "stream",
     "text": [
      "original coefficients: 600.000\n",
      "fitted   coefficients: -368.156\n"
     ]
    }
   ],
   "source": [
    "from scipy.optimize import curve_fit\n",
    "import matplotlib.pyplot as plt\n",
    "import numpy as np\n",
    "\n",
    "plt.figure(figsize=[10, 6])\n",
    "\n",
    "\n",
    "#define the function\n",
    "f = lambda x,a,x2: a*np.sin(x-x2)+np.sin(x2)\n",
    "#4.958333335,2.204166664999999,4.1875\n",
    "#define the paramters for the plot\n",
    "x_min, x_max = 2.204166664999999, 4.958333335\n",
    "x2_min,x2_max=0,10\n",
    "npoints = 3\n",
    "a=600\n",
    "\n",
    "x = np.linspace(x_min, x_max, npoints)\n",
    "x2 = np.linspace(x2_min, x2_max, npoints)\n",
    "y = f(x,a,x2) + np.random.rand(npoints) - 0.5\n",
    "\n",
    "#do the curve fit\n",
    "params, extras = curve_fit(f, x, y)\n",
    "\n",
    "plt.plot(x,f(x,a,x2), '--', label='ideal function')\n",
    "plt.plot(x,y, 'o', label='noisy data')\n",
    "plt.plot(x,f(x,params[0],params[1]), label='curve_fit')\n",
    "\n",
    "plt.xlabel('x')\n",
    "plt.ylabel('$f(x)$')\n",
    "plt.xlim([x2_min, x2_max])\n",
    "plt.legend(fontsize=12)\n",
    "plt.show()\n",
    "print('original coefficients: %6.3f' %(a))\n",
    "print('fitted   coefficients: %6.3f' %(params[0]))"
   ]
  },
  {
   "cell_type": "code",
   "execution_count": null,
   "metadata": {},
   "outputs": [],
   "source": [
    "# n*lambda/d = np.sin(x-y)+np.sin(y)"
   ]
  }
 ],
 "metadata": {
  "kernelspec": {
   "display_name": "Python 3",
   "language": "python",
   "name": "python3"
  },
  "language_info": {
   "codemirror_mode": {
    "name": "ipython",
    "version": 3
   },
   "file_extension": ".py",
   "mimetype": "text/x-python",
   "name": "python",
   "nbconvert_exporter": "python",
   "pygments_lexer": "ipython3",
   "version": "3.7.3"
  }
 },
 "nbformat": 4,
 "nbformat_minor": 2
}
