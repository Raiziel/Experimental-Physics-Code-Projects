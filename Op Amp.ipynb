{
 "cells": [
  {
   "cell_type": "code",
   "execution_count": 2,
   "metadata": {},
   "outputs": [],
   "source": [
    "import statistics \n",
    "import numpy\n",
    "import math\n",
    "import numpy as np\n",
    "from numpy import log as ln\n",
    "import matplotlib.mlab as mlab\n",
    "import matplotlib.pyplot as plt\n",
    "from scipy.optimize import curve_fit\n"
   ]
  },
  {
   "cell_type": "markdown",
   "metadata": {},
   "source": [
    "f            Vin       Vout          A_CL         \n",
    "1.388 MHZ  && 1.38 V && 16.0 mV && 43047.21 \\\\\n",
    "763.3 KHZ  && 1.38 V && 16.0 mV && 40281.09 \\\\ \n",
    "523.5 KHZ  && 1.42 V && 14.8 mV && 33581.57 \\\\\n",
    "309.8 KHZ && 7.40 V && 7.08 mV && 30327.39 \\\\\n",
    "216.9 KHZ && 7.40 V && 62.0 mV && 28530.16 \\\\\n",
    "107.7 KHZ && 7.32 V && 45.2 mV && 25713.36 \\\\\n",
    "17.76 KHZ && 2.72 V && 16.8 mV && 23561.97 \\\\ \n",
    "6.276 KHZ && 4.40 V && 14.4 mV && 19933.65 \\\\\n",
    "\n"
   ]
  },
  {
   "cell_type": "markdown",
   "metadata": {},
   "source": [
    "$\\nu$      &      $V_{in}$    &   $V_{out}$     &       $\\delta\\phi$     $A_{OL}$\n",
    "\\hline\n",
    "102.6 KHZ & 2.00 V & 4.20 mV  & 273.33 & 31097.87 \\\\\n",
    "63.69 KHZ & 2.04 V & 19.2 mV  & 261.35 & 34750.79 \\\\\n",
    "44.68 KHZ & 2.00 V & 26.4 mV  & 266.95 & 37076.48 \\\\\n",
    "20.348 KHZ & 600 mV & 816 mV  & 234.4 & 40870.81\\\\\n",
    "10.356 KHZ & 600 mV & 184 mV  & 261.58 & 42805.49 \\\\\n",
    "8.283 KHZ & 600 mV & 88 mV  & 262.46 & 43242.42 \\\\ \n",
    "6.405 KHZ & 600 mV & 496 mV  & 268.748 & 43650.02 \\\\\n",
    "4.11 KHZ & 600 mV & 324 mV  & 236.74 & 44164.13\\\\\n",
    "2.52 KHZ & 600 mV & 240 mV  & 257.76 & 44531.17 \\\\\n",
    "1.03 KHZ & 660 mV & 1.92V  & 242.658 & 44883.55 \\\\\n",
    "855.0 HZ & 260 mV & 27.8 V & 91.45 & 44925.49 \\\\\n",
    "740.0 HZ & 200 mV & 23.6 V s & 91.15 & 44953.11 \\\\\n",
    "611.0 HZ & 174 mV & 25.4 V  & 92.19 & 44984.16 \\\\\n",
    "435.0 HZ & 616 mV & 28.8 V  & 90.85 & 45026.62 \\\\\n",
    "331.1 HZ & 404 mV & 24.6 V  & 91.05 & 45051.744 \\\\\n",
    "239.9 HZ & 304 mV & 27.4 V & 90.68 & 45073.83 \\\\ \n",
    "142.3 HZ & 180.0 mV & 26.8 V  & 93.23 & 45097.50 \\\\\n",
    "75.3 HZ & 90.0 mV & 24.4 V  & 86.75 &  45113.78 \\\\\n",
    "42.08 HZ & 1.02V & 23.2 V  & 88.0092 &  45121.85 \\\\\n",
    "22.66 HZ & 536 mV & 22.8 V  & 82.1402 & 45126.57 \\\\\n",
    "\n",
    "\n",
    "\n",
    "\n",
    "\n",
    " \n",
    "102.6 KHZ    2.093  & 31097.87 & 1.388 MHZ  & 43047.21 & 100\n",
    "63.69 KHZ &  9.38   & 34750.79 & 763.3 KHZ  & 40281.09 & 100\n",
    "44.68 KHZ  & 13.16  & 37076.48 & 523.5 KHZ  & 33581.57 & 100\n",
    "20.348 KHZ & 137.36 & 40870.81 & 309.8 KHZ & 30327.39 & 100\n",
    "10.356 KHZ & 30.97  & 42805.49 & 216.9 KHZ & 28530.16 & 100\n",
    "8.283 KHZ &  14.81  & 43242.42 & 107.7 KHZ & 25713.36 & 100\n",
    "6.405 KHZ &  83.49  & 43650.02 & 17.76 KHZ & 23561.97 & 100\n",
    "4.11 KHZ &  54.54   & 44164.13 & 6.276 KHZ && 19933.65 & 100\n",
    "2.52 KHZ &  40.40   & 44531.17 \n",
    "1.03 KHZ &  293.82  & 44883.55 \n",
    "855.0 HZ &  1176.15 & 44925.49 \n",
    "740.0 HZ &  1298.0  & 44953.11 \n",
    "611.0 HZ &  1605.75 & 44984.16 \n",
    "435.0 HZ &  2711.69 & 45026.62 \n",
    "331.1 HZ &  3531.68 &45051.744 \n",
    "239.9 HZ &  5227.63 & 45073.83 \n",
    "142.3 HZ &  8635.56 & 45097.50 \n",
    "75.3 HZ  & 15724.44 & 45113.78 \n",
    "42.08 HZ & 24132.55 & 45121.85 \n",
    "22.66 HZ & 45132.09 & 45126.57 \n",
    "\n",
    " \n",
    "\n",
    "1.388 MHZ  & 43047.21 & 100\n",
    "763.3 KHZ  & 40281.09 & 100\n",
    "523.5 KHZ  & 33581.57 & 100\n",
    "309.8 KHZ & 30327.39 & 100\n",
    "216.9 KHZ & 28530.16 & 100\n",
    "107.7 KHZ & 25713.36 & 100\n",
    "17.76 KHZ & 23561.97 & 100\n",
    "6.276 KHZ && 19933.65 & 100\n",
    "\n",
    "\n",
    "\n",
    "\n",
    "\n",
    "\n",
    " 13.1604,\n",
    " 9.38\n",
    " 2.093\n",
    "\n",
    "\n",
    "\n"
   ]
  },
  {
   "cell_type": "code",
   "execution_count": 6,
   "metadata": {},
   "outputs": [],
   "source": [
    "R_b=100\n",
    "R_a=10000\n",
    "G2=R_a/R_b\n",
    "Phi=[82.1402,88.0092,86.75,93.23,90.68,91.05,90.85\n",
    ",92.19,91.15,91.45,242.658,257.76,236.74,268.748,262.46,261.58,234.4,266.95,261.35,273.33]\n",
    "\n",
    "Freq=[22.66,\n",
    " 42.08,\n",
    " 75.3,\n",
    " 142.3,\n",
    " 239.9,\n",
    " 331.1,\n",
    " 435.0,\n",
    " 611.0,\n",
    " 740.0,\n",
    " 855.0,\n",
    " 1030.0,\n",
    " 2520.0,\n",
    " 4110.0,\n",
    " 6405.0,\n",
    " 8283.0,\n",
    " 10356.0,\n",
    " 20348.0,\n",
    " 44680.0,\n",
    " 63690.0,\n",
    " 102600.0 ]\n",
    "\n",
    "\n",
    "\n"
   ]
  },
  {
   "cell_type": "code",
   "execution_count": 7,
   "metadata": {},
   "outputs": [],
   "source": [
    "a=[0,2.00 , .00420 ,9960]\n",
    "b=[0,2.04,.0192 ,9960]\n",
    "c=[0,2.00,.0264, 9960]\n",
    "d=[0,.600 ,.816,1000 ]\n",
    "e=[0,.600 ,.184 ,1000]\n",
    "f=[0,.600, .088, 1000]\n",
    "g=[0,.600,.496, 1000]\n",
    "h=[0,.600, .324 ,1000] \n",
    "i=[0,.600 , .240 ,1000] \n",
    "j=[0,.660 , 1.92 ,1000] \n",
    "k=[0,.260 , 27.8 ,100]\n",
    "l=[0,.200 ,23.6 ,100] \n",
    "m=[0,.174 , 25.4 ,100] \n",
    "n=[0,.616 , 28.8,570 ] \n",
    "o=[0,.404 ,24.6, 570] \n",
    "p=[0,.304 , 27.4 ,570]\n",
    "q=[0,.180,26.8 ,570] \n",
    "r=[0,.090 , 24.4 ,570] \n",
    "s=[0,1.02,23.2,10600 ] \n",
    "t=[0,.536,22.8, 10600] "
   ]
  },
  {
   "cell_type": "code",
   "execution_count": 8,
   "metadata": {},
   "outputs": [],
   "source": [
    "A=(a[2]/a[1])*(1/(10/(a[3]+10)))\n",
    "B=(b[2]/b[1])*(1/(10/(b[3]+10)))\n",
    "C=(c[2]/c[1])*(1/(10/(c[3]+10)))\n",
    "D=(d[2]/d[1])*(1/(10/(d[3]+10)))\n",
    "E=(e[2]/e[1])*(1/(10/(e[3]+10)))\n",
    "F=(f[2]/f[1])*(1/(10/(f[3]+10)))\n",
    "G=(g[2]/g[1])*(1/(10/(g[3]+10)))\n",
    "H=(h[2]/h[1])*(1/(10/(h[3]+10)))\n",
    "I=(i[2]/i[1])*(1/(10/(i[3]+10)))\n",
    "J=(j[2]/j[1])*(1/(10/(j[3]+10)))\n",
    "K=(k[2]/k[1])*(1/(10/(k[3]+10)))\n",
    "L=(l[2]/l[1])*(1/(10/(l[3]+10)))\n",
    "M=(m[2]/m[1])*(1/(10/(m[3]+10)))\n",
    "N=(n[2]/n[1])*(1/(10/(n[3]+10)))\n",
    "O=(o[2]/o[1])*(1/(10/(o[3]+10)))\n",
    "P=(p[2]/p[1])*(1/(10/(p[3]+10)))\n",
    "Q=(q[2]/q[1])*(1/(10/(q[3]+10)))\n",
    "R=(r[2]/r[1])*(1/(10/(r[3]+10)))\n",
    "S=(s[2]/s[1])*(1/(10/(s[3]+10)))\n",
    "T=(t[2]/t[1])*(1/(10/(t[3]+10)))"
   ]
  },
  {
   "cell_type": "code",
   "execution_count": 9,
   "metadata": {},
   "outputs": [],
   "source": [
    "Gain = [T,S,R,Q,P,O,N,M,L,K,J,I,H,G,F,E,D,C,B,A]"
   ]
  },
  {
   "cell_type": "code",
   "execution_count": 10,
   "metadata": {},
   "outputs": [
    {
     "data": {
      "text/plain": [
       "[45132.0895522388,\n",
       " 24132.54901960784,\n",
       " 15724.444444444443,\n",
       " 8635.555555555555,\n",
       " 5227.631578947368,\n",
       " 3531.6831683168316,\n",
       " 2711.688311688312,\n",
       " 1605.7471264367816,\n",
       " 1298.0,\n",
       " 1176.1538461538462,\n",
       " 293.81818181818176,\n",
       " 40.400000000000006,\n",
       " 54.540000000000006,\n",
       " 83.49333333333334,\n",
       " 14.813333333333333,\n",
       " 30.973333333333336,\n",
       " 137.35999999999999,\n",
       " 13.1604,\n",
       " 9.383529411764705,\n",
       " 2.0936999999999997]"
      ]
     },
     "execution_count": 10,
     "metadata": {},
     "output_type": "execute_result"
    }
   ],
   "source": [
    "Gain"
   ]
  },
  {
   "cell_type": "code",
   "execution_count": 131,
   "metadata": {},
   "outputs": [
    {
     "data": {
      "text/plain": [
       "[<matplotlib.lines.Line2D at 0x16ef13b1898>]"
      ]
     },
     "execution_count": 131,
     "metadata": {},
     "output_type": "execute_result"
    },
    {
     "data": {
      "image/png": "[encoded data removed]",
      "text/plain": [
       "<Figure size 432x288 with 1 Axes>"
      ]
     },
     "metadata": {
      "needs_background": "light"
     },
     "output_type": "display_data"
    }
   ],
   "source": [
    "plt.plot(np.log10(Freq),np.log10(Gain),'.')"
   ]
  },
  {
   "cell_type": "code",
   "execution_count": 32,
   "metadata": {},
   "outputs": [
    {
     "data": {
      "image/png": "[encoded data removed]",
      "text/plain": [
       "<Figure size 432x288 with 1 Axes>"
      ]
     },
     "metadata": {
      "needs_background": "light"
     },
     "output_type": "display_data"
    },
    {
     "name": "stdout",
     "output_type": "stream",
     "text": [
      "         3          2\n",
      "0.07229 x - 0.6363 x + 0.5302 x + 4.974\n"
     ]
    }
   ],
   "source": [
    "x = np.array(np.log10(Freq))\n",
    "y = np.array(np.log10(Gain))\n",
    "z = np.polyfit(x, y, 3)\n",
    "p = np.poly1d(z)\n",
    "xp = np.linspace(-0, 5, 20)\n",
    "p1 = np.poly1d(np.polyfit(x, y, 3))\n",
    "plt.plot(x, y, '.', xp, p(xp), '-', xp, p1(xp), '-')\n",
    "plt.title\n",
    "plt.xlabel(\"Frequency (log10)\")\n",
    "plt.ylabel(\"Gain (log10)\")\n",
    "plt.show()\n",
    "#print(p)\n",
    "print(p1)"
   ]
  },
  {
   "cell_type": "code",
   "execution_count": 107,
   "metadata": {},
   "outputs": [
    {
     "data": {
      "text/plain": [
       "[45132.0895522388,\n",
       " 24132.54901960784,\n",
       " 15724.444444444443,\n",
       " 8635.555555555555,\n",
       " 5227.631578947368,\n",
       " 3531.6831683168316,\n",
       " 2711.688311688312,\n",
       " 1605.7471264367816,\n",
       " 1298.0,\n",
       " 1176.1538461538462,\n",
       " 293.81818181818176,\n",
       " 40.400000000000006,\n",
       " 54.540000000000006,\n",
       " 83.49333333333334,\n",
       " 14.813333333333333,\n",
       " 30.973333333333336,\n",
       " 137.35999999999999,\n",
       " 13.1604,\n",
       " 9.383529411764705,\n",
       " 2.0936999999999997]"
      ]
     },
     "execution_count": 107,
     "metadata": {},
     "output_type": "execute_result"
    }
   ],
   "source": [
    "Gain"
   ]
  },
  {
   "cell_type": "code",
   "execution_count": 106,
   "metadata": {},
   "outputs": [
    {
     "data": {
      "text/plain": [
       "[22.66,\n",
       " 42.08,\n",
       " 75.3,\n",
       " 142.3,\n",
       " 239.9,\n",
       " 331.1,\n",
       " 435.0,\n",
       " 611.0,\n",
       " 740.0,\n",
       " 855.0,\n",
       " 1030.0,\n",
       " 2520.0,\n",
       " 4110.0,\n",
       " 6405.0,\n",
       " 8283.0,\n",
       " 10356.0,\n",
       " 20348.0,\n",
       " 44680.0,\n",
       " 63690.0,\n",
       " 102600.0]"
      ]
     },
     "execution_count": 106,
     "metadata": {},
     "output_type": "execute_result"
    }
   ],
   "source": [
    "Freq"
   ]
  },
  {
   "cell_type": "code",
   "execution_count": 115,
   "metadata": {},
   "outputs": [
    {
     "data": {
      "text/plain": [
       "[<matplotlib.lines.Line2D at 0x16eefe08e10>]"
      ]
     },
     "execution_count": 115,
     "metadata": {},
     "output_type": "execute_result"
    },
    {
     "data": {
      "image/png": "[encoded data removed]",
      "text/plain": [
       "<Figure size 432x288 with 1 Axes>"
      ]
     },
     "metadata": {
      "needs_background": "light"
     },
     "output_type": "display_data"
    }
   ],
   "source": [
    "plt.plot([22.66,\n",
    " 42.08,\n",
    " 75.3,\n",
    " 142.3,\n",
    " 239.9,\n",
    " 331.1,\n",
    " 435.0,\n",
    " 611.0,\n",
    " 740.0,\n",
    " 855.0,\n",
    " 1030.0,\n",
    " 2520.0,\n",
    " 4110.0,\n",
    " 6405.0,\n",
    " 8283.0,\n",
    " 10356.0,\n",
    " 20348.0,\n",
    " 44680.0,\n",
    " 63690.0,\n",
    " 102600.0])"
   ]
  },
  {
   "cell_type": "code",
   "execution_count": 117,
   "metadata": {},
   "outputs": [
    {
     "data": {
      "text/plain": [
       "[<matplotlib.lines.Line2D at 0x16eefed6320>]"
      ]
     },
     "execution_count": 117,
     "metadata": {},
     "output_type": "execute_result"
    },
    {
     "data": {
      "image/png": "[encoded data removed]",
      "text/plain": [
       "<Figure size 432x288 with 1 Axes>"
      ]
     },
     "metadata": {
      "needs_background": "light"
     },
     "output_type": "display_data"
    }
   ],
   "source": [
    "plt.plot([45132.0895522388,\n",
    " 24132.54901960784,\n",
    " 15724.444444444443,\n",
    " 8635.555555555555,\n",
    " 5227.631578947368,\n",
    " 3531.6831683168316,\n",
    " 2711.688311688312,\n",
    " 1605.7471264367816,\n",
    " 1298.0,\n",
    " 1176.1538461538462,\n",
    " 293.81818181818176,\n",
    " 40.400000000000006,\n",
    " 54.540000000000006,\n",
    " 83.49333333333334,\n",
    " 14.813333333333333,\n",
    " 30.973333333333336,\n",
    " 137.35999999999999,\n",
    " 13.1604,\n",
    " 9.383529411764705,\n",
    " 2.0936999999999997],'.')"
   ]
  },
  {
   "cell_type": "code",
   "execution_count": 28,
   "metadata": {},
   "outputs": [
    {
     "name": "stderr",
     "output_type": "stream",
     "text": [
      "D:\\Miniconda\\lib\\site-packages\\ipykernel_launcher.py:2: RuntimeWarning: divide by zero encountered in true_divide\n",
      "  \n",
      "D:\\Miniconda\\lib\\site-packages\\ipykernel_launcher.py:11: RuntimeWarning: divide by zero encountered in log10\n",
      "  # This is added back by InteractiveShellApp.init_path()\n"
     ]
    },
    {
     "data": {
      "image/png": "[encoded data removed]",
      "text/plain": [
       "<Figure size 432x288 with 1 Axes>"
      ]
     },
     "metadata": {
      "needs_background": "light"
     },
     "output_type": "display_data"
    },
    {
     "name": "stdout",
     "output_type": "stream",
     "text": [
      "Estimated Cutoff Frequency: 92746.7027739474\n",
      "fitted   coefficients: 92746.703\n"
     ]
    }
   ],
   "source": [
    "#define the function\n",
    "f = lambda x,x2: max(Gain)/(np.sqrt(1+(x/x2)))\n",
    "x = Freq\n",
    "x2=np.linspace(0,100000,20,'.')\n",
    "y=f(x,x2)\n",
    "\n",
    "\n",
    "#do the curve fit\n",
    "params, extras = curve_fit(f, x, y)\n",
    "\n",
    "plt.plot(np.log10(x),np.log10(f(x,x2)), '--', label='ideal function')\n",
    "plt.plot(np.log10(x),np.log10(f(x,params[0])),'-', label='curve_fit')\n",
    "plt.xlabel('Frequency (log 10)')\n",
    "plt.ylabel('Gain (log 10)')\n",
    "\n",
    "plt.legend(fontsize=12)\n",
    "plt.show()\n",
    "print('Estimated Cutoff Frequency:',params[0])\n",
    "print('fitted   coefficients: %6.3f' %(params[0]))"
   ]
  },
  {
   "cell_type": "code",
   "execution_count": 12,
   "metadata": {},
   "outputs": [],
   "source": [
    "A_ol=[]\n",
    "for i in range(len(Freq)):\n",
    "    Aol = max(Gain)/(np.sqrt(1+Freq[i]/92746))\n",
    "    A_ol.append(Aol)"
   ]
  },
  {
   "cell_type": "code",
   "execution_count": 13,
   "metadata": {},
   "outputs": [
    {
     "data": {
      "text/plain": [
       "[<matplotlib.lines.Line2D at 0x2ab696d2320>]"
      ]
     },
     "execution_count": 13,
     "metadata": {},
     "output_type": "execute_result"
    },
    {
     "data": {
      "image/png": "[encoded data removed]",
      "text/plain": [
       "<Figure size 432x288 with 1 Axes>"
      ]
     },
     "metadata": {
      "needs_background": "light"
     },
     "output_type": "display_data"
    }
   ],
   "source": [
    "plt.plot(np.log10(Freq),np.log10(A_ol))"
   ]
  },
  {
   "cell_type": "code",
   "execution_count": 14,
   "metadata": {},
   "outputs": [
    {
     "data": {
      "text/plain": [
       "[45126.5771539324,\n",
       " 45121.85454307938,\n",
       " 45113.77944529849,\n",
       " 45097.50630610153,\n",
       " 45073.83243617265,\n",
       " 45051.744613444294,\n",
       " 45026.62049035283,\n",
       " 44984.157559308274,\n",
       " 44953.11034602657,\n",
       " 44925.48672803104,\n",
       " 44883.54832427452,\n",
       " 44531.16632967814,\n",
       " 44164.13925639674,\n",
       " 43650.02391289993,\n",
       " 43242.421745580694,\n",
       " 42805.49172556838,\n",
       " 40870.810754624836,\n",
       " 37076.48737531102,\n",
       " 34750.790158067095,\n",
       " 31097.87932111739]"
      ]
     },
     "execution_count": 14,
     "metadata": {},
     "output_type": "execute_result"
    }
   ],
   "source": [
    "A_ol"
   ]
  },
  {
   "cell_type": "code",
   "execution_count": 36,
   "metadata": {},
   "outputs": [],
   "source": [
    "A_cl=[]\n",
    "for i in A_ol:\n",
    "    CL=G2/(np.sqrt(((1-G2)**2)/(((i))**2)))\n",
    "    A_cl.append(CL)\n"
   ]
  },
  {
   "cell_type": "code",
   "execution_count": 37,
   "metadata": {},
   "outputs": [
    {
     "data": {
      "text/plain": [
       "[45582.40116558828,\n",
       " 45577.63085159533,\n",
       " 45569.4741871702,\n",
       " 45553.03667282983,\n",
       " 45529.12367290167,\n",
       " 45506.81274085282,\n",
       " 45481.43483874023,\n",
       " 45438.54298920028,\n",
       " 45407.18216770361,\n",
       " 45379.27952326368,\n",
       " 45336.91749926719,\n",
       " 44980.97609058398,\n",
       " 44610.241673128025,\n",
       " 44090.933245353466,\n",
       " 43679.21388442494,\n",
       " 43237.87042986705,\n",
       " 41283.64722689377,\n",
       " 37450.99734879901,\n",
       " 35101.80824047181,\n",
       " 31411.99931425999]"
      ]
     },
     "execution_count": 37,
     "metadata": {},
     "output_type": "execute_result"
    }
   ],
   "source": [
    "A_cl"
   ]
  },
  {
   "cell_type": "code",
   "execution_count": 50,
   "metadata": {},
   "outputs": [],
   "source": [
    "Freq2=[1.388*10e5   \n",
    ",763.3*1000  \n",
    ",523.5*1000 \n",
    ",309.8*1000 \n",
    ",216.9 *1000 \n",
    ",107.7 *1000 \n",
    ",17.76 *1000 \n",
    ",6.276 *1000 ]"
   ]
  },
  {
   "cell_type": "code",
   "execution_count": 4,
   "metadata": {},
   "outputs": [
    {
     "data": {
      "text/plain": [
       "<matplotlib.legend.Legend at 0x2ab695c2f60>"
      ]
     },
     "execution_count": 4,
     "metadata": {},
     "output_type": "execute_result"
    },
    {
     "data": {
      "image/png": "[encoded data removed]",
      "text/plain": [
       "<Figure size 432x288 with 1 Axes>"
      ]
     },
     "metadata": {
      "needs_background": "light"
     },
     "output_type": "display_data"
    }
   ],
   "source": [
    "plt.plot(np.log10(Freq),(Phi),label=\"Open Loop Phase Shift\")\n",
    "plt.xlabel(\"Frequency\")\n",
    "plt.ylabel(\"∆φ\")\n",
    "plt.legend()\n"
   ]
  },
  {
   "cell_type": "code",
   "execution_count": 47,
   "metadata": {},
   "outputs": [
    {
     "data": {
      "image/png": "[encoded data removed]",
      "text/plain": [
       "<Figure size 432x288 with 1 Axes>"
      ]
     },
     "metadata": {
      "needs_background": "light"
     },
     "output_type": "display_data"
    },
    {
     "name": "stdout",
     "output_type": "stream",
     "text": [
      "            5            4           3          2\n",
      "-0.0008427 x + 0.009223 x - 0.04024 x + 0.0861 x - 0.08986 x + 4.695\n"
     ]
    }
   ],
   "source": [
    "x = np.array(np.log10(Freq))\n",
    "y = np.array(np.log10(A_cl))\n",
    "z = np.polyfit(x, y, 5)\n",
    "p = np.poly1d(z)\n",
    "xp = np.linspace(5, 0, 20)\n",
    "p1 = np.poly1d(np.polyfit(x, y, 5))\n",
    "\n",
    "plt.plot(x, y, '.', xp, p(xp), '-', xp, p1(xp), '-')\n",
    "\n",
    "plt.title\n",
    "plt.xlabel(\"Frequency (log10)\")\n",
    "plt.ylabel(\"Gain (log10)\")\n",
    "plt.show()\n",
    "#print(p)\n",
    "print(p1)"
   ]
  },
  {
   "cell_type": "code",
   "execution_count": 410,
   "metadata": {},
   "outputs": [
    {
     "data": {
      "text/plain": [
       "45132.0895522388"
      ]
     },
     "execution_count": 410,
     "metadata": {},
     "output_type": "execute_result"
    }
   ],
   "source": [
    "max(Gain)"
   ]
  },
  {
   "cell_type": "code",
   "execution_count": 411,
   "metadata": {},
   "outputs": [
    {
     "data": {
      "text/plain": [
       "[45132.0895522388,\n",
       " 24132.54901960784,\n",
       " 15724.444444444443,\n",
       " 8635.555555555555,\n",
       " 5227.631578947368,\n",
       " 3531.6831683168316,\n",
       " 2711.688311688312,\n",
       " 1605.7471264367816,\n",
       " 1298.0,\n",
       " 1176.1538461538462,\n",
       " 293.81818181818176,\n",
       " 40.400000000000006,\n",
       " 54.540000000000006,\n",
       " 83.49333333333334,\n",
       " 14.813333333333333,\n",
       " 30.973333333333336,\n",
       " 137.35999999999999,\n",
       " 13.1604,\n",
       " 9.383529411764705,\n",
       " 2.0936999999999997]"
      ]
     },
     "execution_count": 411,
     "metadata": {},
     "output_type": "execute_result"
    }
   ],
   "source": [
    "Gain"
   ]
  },
  {
   "cell_type": "code",
   "execution_count": 429,
   "metadata": {},
   "outputs": [
    {
     "data": {
      "text/plain": [
       "[<matplotlib.lines.Line2D at 0x16ef69136a0>]"
      ]
     },
     "execution_count": 429,
     "metadata": {},
     "output_type": "execute_result"
    },
    {
     "data": {
      "image/png": "[encoded data removed]",
      "text/plain": [
       "<Figure size 432x288 with 1 Axes>"
      ]
     },
     "metadata": {
      "needs_background": "light"
     },
     "output_type": "display_data"
    }
   ],
   "source": [
    "plt.plot(Phi)"
   ]
  },
  {
   "cell_type": "code",
   "execution_count": 421,
   "metadata": {},
   "outputs": [
    {
     "data": {
      "text/plain": [
       "[82.1402,\n",
       " 88.0092,\n",
       " 86.75,\n",
       " 93.23,\n",
       " 90.68,\n",
       " 91.05,\n",
       " 90.85,\n",
       " 92.19,\n",
       " 91.15,\n",
       " 91.45,\n",
       " 242.658,\n",
       " 257.76,\n",
       " 236.74,\n",
       " 268.748,\n",
       " 262.46,\n",
       " 261.58,\n",
       " 234.4,\n",
       " 266.95,\n",
       " 261.35,\n",
       " 273.33]"
      ]
     },
     "execution_count": 421,
     "metadata": {},
     "output_type": "execute_result"
    }
   ],
   "source": [
    "Phi"
   ]
  },
  {
   "cell_type": "code",
   "execution_count": 505,
   "metadata": {},
   "outputs": [
    {
     "data": {
      "image/png": "[encoded data removed]",
      "text/plain": [
       "<Figure size 432x288 with 1 Axes>"
      ]
     },
     "metadata": {
      "needs_background": "light"
     },
     "output_type": "display_data"
    }
   ],
   "source": [
    "plt.plot(np.log10(Freq),(A_cl))\n",
    "# grab a reference to the current axes\n",
    "ax = plt.gca()\n",
    "# set the xlimits to be the reverse of the current xlimits\n",
    "ax.set_xlim(ax.get_xlim()[::-1])\n",
    "# call `draw` to re-render the graph\n",
    "plt.draw()\n"
   ]
  },
  {
   "cell_type": "code",
   "execution_count": null,
   "metadata": {},
   "outputs": [],
   "source": [
    "    "
   ]
  },
  {
   "cell_type": "code",
   "execution_count": 52,
   "metadata": {},
   "outputs": [],
   "source": [
    "AOL =[]\n",
    "for i in Freq2:\n",
    "    set=(-1973*(np.log10(i)**2))+(9754*np.log10(i))+3.446e04\n",
    "    AOL.append(set)\n",
    "    "
   ]
  },
  {
   "cell_type": "code",
   "execution_count": 56,
   "metadata": {},
   "outputs": [],
   "source": [
    "AOL.reverse()"
   ]
  },
  {
   "cell_type": "code",
   "execution_count": 63,
   "metadata": {},
   "outputs": [
    {
     "data": {
      "image/png": "[encoded data removed]",
      "text/plain": [
       "<Figure size 432x288 with 1 Axes>"
      ]
     },
     "metadata": {
      "needs_background": "light"
     },
     "output_type": "display_data"
    }
   ],
   "source": [
    "plt.plot(((Freq3)),(np.log10(AOL)))\n",
    "plt.xlabel(\"Frequency divided by 1000 \")\n",
    "plt.ylabel(\"Gain\")\n",
    "# grab a reference to the current axes\n",
    "ax = plt.gca()\n",
    "# set the xlimits to be the reverse of the current xlimits\n",
    "ax.set_xlim(ax.get_xlim()[::-1])\n",
    "# call `draw` to re-render the graph\n",
    "plt.draw()\n",
    "\n"
   ]
  },
  {
   "cell_type": "code",
   "execution_count": 589,
   "metadata": {},
   "outputs": [],
   "source": [
    "AOL.reverse()"
   ]
  },
  {
   "cell_type": "code",
   "execution_count": 534,
   "metadata": {},
   "outputs": [
    {
     "data": {
      "text/plain": [
       "[<matplotlib.lines.Line2D at 0x16efac54a20>]"
      ]
     },
     "execution_count": 534,
     "metadata": {},
     "output_type": "execute_result"
    },
    {
     "data": {
      "image/png": "[encoded data removed]",
      "text/plain": [
       "<Figure size 432x288 with 1 Axes>"
      ]
     },
     "metadata": {
      "needs_background": "light"
     },
     "output_type": "display_data"
    }
   ],
   "source": [
    "plt.plot(np.log10(Freq),A_cl)\n",
    "plt.xlabel()"
   ]
  },
  {
   "cell_type": "code",
   "execution_count": 522,
   "metadata": {},
   "outputs": [],
   "source": [
    "AOL.reverse()"
   ]
  },
  {
   "cell_type": "code",
   "execution_count": 61,
   "metadata": {},
   "outputs": [],
   "source": [
    "Freq3=[]\n",
    "for i in Freq2:\n",
    "    awd = i/1000\n",
    "    Freq3.append(awd)"
   ]
  },
  {
   "cell_type": "code",
   "execution_count": 537,
   "metadata": {},
   "outputs": [
    {
     "data": {
      "text/plain": [
       "[43047.212682074125,\n",
       " 40281.09534883209,\n",
       " 33581.568462812924,\n",
       " 30327.386639595497,\n",
       " 28530.16125624531,\n",
       " 25713.3594498932,\n",
       " 23561.96728502759,\n",
       " 19933.65175109201]"
      ]
     },
     "execution_count": 537,
     "metadata": {},
     "output_type": "execute_result"
    }
   ],
   "source": [
    "AOL"
   ]
  },
  {
   "cell_type": "code",
   "execution_count": 38,
   "metadata": {},
   "outputs": [
    {
     "ename": "NameError",
     "evalue": "name 'W' is not defined",
     "output_type": "error",
     "traceback": [
      "\u001b[1;31m---------------------------------------------------------------------------\u001b[0m",
      "\u001b[1;31mNameError\u001b[0m                                 Traceback (most recent call last)",
      "\u001b[1;32m<ipython-input-38-f31e6301ba02>\u001b[0m in \u001b[0;36m<module>\u001b[1;34m\u001b[0m\n\u001b[1;32m----> 1\u001b[1;33m \u001b[0mx\u001b[0m \u001b[1;33m=\u001b[0m \u001b[0mnp\u001b[0m\u001b[1;33m.\u001b[0m\u001b[0marray\u001b[0m\u001b[1;33m(\u001b[0m\u001b[0mW\u001b[0m\u001b[1;33m)\u001b[0m\u001b[1;33m\u001b[0m\u001b[1;33m\u001b[0m\u001b[0m\n\u001b[0m\u001b[0;32m      2\u001b[0m \u001b[0my\u001b[0m \u001b[1;33m=\u001b[0m \u001b[0mnp\u001b[0m\u001b[1;33m.\u001b[0m\u001b[0marray\u001b[0m\u001b[1;33m(\u001b[0m\u001b[1;33m(\u001b[0m\u001b[0mA_cl\u001b[0m\u001b[1;33m)\u001b[0m\u001b[1;33m)\u001b[0m\u001b[1;33m\u001b[0m\u001b[1;33m\u001b[0m\u001b[0m\n\u001b[0;32m      3\u001b[0m \u001b[0mz\u001b[0m \u001b[1;33m=\u001b[0m \u001b[0mnp\u001b[0m\u001b[1;33m.\u001b[0m\u001b[0mpolyfit\u001b[0m\u001b[1;33m(\u001b[0m\u001b[0mx\u001b[0m\u001b[1;33m,\u001b[0m \u001b[0my\u001b[0m\u001b[1;33m,\u001b[0m \u001b[1;36m2\u001b[0m\u001b[1;33m)\u001b[0m\u001b[1;33m\u001b[0m\u001b[1;33m\u001b[0m\u001b[0m\n\u001b[0;32m      4\u001b[0m \u001b[0mp\u001b[0m \u001b[1;33m=\u001b[0m \u001b[0mnp\u001b[0m\u001b[1;33m.\u001b[0m\u001b[0mpoly1d\u001b[0m\u001b[1;33m(\u001b[0m\u001b[0mz\u001b[0m\u001b[1;33m)\u001b[0m\u001b[1;33m\u001b[0m\u001b[1;33m\u001b[0m\u001b[0m\n\u001b[0;32m      5\u001b[0m \u001b[1;32mimport\u001b[0m \u001b[0mmatplotlib\u001b[0m\u001b[1;33m.\u001b[0m\u001b[0mpyplot\u001b[0m \u001b[1;32mas\u001b[0m \u001b[0mplt\u001b[0m\u001b[1;33m\u001b[0m\u001b[1;33m\u001b[0m\u001b[0m\n",
      "\u001b[1;31mNameError\u001b[0m: name 'W' is not defined"
     ]
    }
   ],
   "source": [
    "x = np.array(W)\n",
    "y = np.array((A_cl))\n",
    "z = np.polyfit(x, y, 2)\n",
    "p = np.poly1d(z)\n",
    "import matplotlib.pyplot as plt\n",
    "xp = np.linspace(max(Freq),0 , 20)\n",
    "p1 = np.poly1d(np.polyfit(x, y, 2))\n",
    "plt.plot(x, y, '.', xp, p(xp), '-', xp, p1(xp), '-')\n",
    "plt.show()\n",
    "#print(p)\n",
    "print(p1)"
   ]
  },
  {
   "cell_type": "code",
   "execution_count": 545,
   "metadata": {},
   "outputs": [
    {
     "data": {
      "text/plain": [
       "92.04119982655925"
      ]
     },
     "execution_count": 545,
     "metadata": {},
     "output_type": "execute_result"
    }
   ],
   "source": [
    "20*np.log10(40000)"
   ]
  },
  {
   "cell_type": "code",
   "execution_count": 563,
   "metadata": {},
   "outputs": [
    {
     "data": {
      "text/plain": [
       "864.2425179623394"
      ]
     },
     "execution_count": 563,
     "metadata": {},
     "output_type": "execute_result"
    }
   ],
   "source": [
    "np.std(A_ol)/np.sqrt(len(A_ol))"
   ]
  },
  {
   "cell_type": "code",
   "execution_count": 564,
   "metadata": {},
   "outputs": [
    {
     "data": {
      "text/plain": [
       "2648.9540012786288"
      ]
     },
     "execution_count": 564,
     "metadata": {},
     "output_type": "execute_result"
    }
   ],
   "source": [
    "np.std(AOL)/np.sqrt(len(AOL))"
   ]
  },
  {
   "cell_type": "code",
   "execution_count": 566,
   "metadata": {},
   "outputs": [
    {
     "data": {
      "text/plain": [
       "34.9"
      ]
     },
     "execution_count": 566,
     "metadata": {},
     "output_type": "execute_result"
    }
   ],
   "source": [
    "np.sum([7,7.3,7.6,6.7,6.3])"
   ]
  },
  {
   "cell_type": "code",
   "execution_count": 569,
   "metadata": {},
   "outputs": [
    {
     "data": {
      "text/plain": [
       "33"
      ]
     },
     "execution_count": 569,
     "metadata": {},
     "output_type": "execute_result"
    }
   ],
   "source": [
    "73-40"
   ]
  },
  {
   "cell_type": "code",
   "execution_count": 60,
   "metadata": {},
   "outputs": [
    {
     "ename": "NameError",
     "evalue": "name 'Freq3' is not defined",
     "output_type": "error",
     "traceback": [
      "\u001b[1;31m---------------------------------------------------------------------------\u001b[0m",
      "\u001b[1;31mNameError\u001b[0m                                 Traceback (most recent call last)",
      "\u001b[1;32m<ipython-input-60-86947c4ffef2>\u001b[0m in \u001b[0;36m<module>\u001b[1;34m\u001b[0m\n\u001b[1;32m----> 1\u001b[1;33m \u001b[0mFreq3\u001b[0m\u001b[1;33m\u001b[0m\u001b[1;33m\u001b[0m\u001b[0m\n\u001b[0m",
      "\u001b[1;31mNameError\u001b[0m: name 'Freq3' is not defined"
     ]
    }
   ],
   "source": [
    "Freq3"
   ]
  },
  {
   "cell_type": "code",
   "execution_count": null,
   "metadata": {},
   "outputs": [],
   "source": []
  }
 ],
 "metadata": {
  "kernelspec": {
   "display_name": "Python 3",
   "language": "python",
   "name": "python3"
  },
  "language_info": {
   "codemirror_mode": {
    "name": "ipython",
    "version": 3
   },
   "file_extension": ".py",
   "mimetype": "text/x-python",
   "name": "python",
   "nbconvert_exporter": "python",
   "pygments_lexer": "ipython3",
   "version": "3.7.3"
  }
 },
 "nbformat": 4,
 "nbformat_minor": 2
}
