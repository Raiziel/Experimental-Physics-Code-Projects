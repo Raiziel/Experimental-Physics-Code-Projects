{
 "cells": [
  {
   "cell_type": "code",
   "execution_count": 1,
   "metadata": {},
   "outputs": [],
   "source": [
    "import statistics \n",
    "import numpy\n",
    "import math\n",
    "import numpy as np\n",
    "from numpy import log as ln\n",
    "import matplotlib.mlab as mlab\n",
    "import matplotlib.pyplot as plt"
   ]
  },
  {
   "cell_type": "code",
   "execution_count": 84,
   "metadata": {},
   "outputs": [],
   "source": [
    "F = [309800,216900,107700,17760,6226,1233,569.4,347.7,102.8]"
   ]
  },
  {
   "cell_type": "code",
   "execution_count": 85,
   "metadata": {},
   "outputs": [],
   "source": [
    "R1=(1000+10/10)"
   ]
  },
  {
   "cell_type": "code",
   "execution_count": 86,
   "metadata": {},
   "outputs": [],
   "source": [
    "R2=98.6+10/10"
   ]
  },
  {
   "cell_type": "code",
   "execution_count": 87,
   "metadata": {},
   "outputs": [],
   "source": [
    "R3=10.7+10/10"
   ]
  },
  {
   "cell_type": "code",
   "execution_count": 88,
   "metadata": {},
   "outputs": [],
   "source": [
    "V_out1=[70.8/1000,62/1000,45.2/1000]\n",
    "V_out2=[16.8/1000,14.4/1000]\n",
    "V_out3=[.792,88/1000,76/1000,72/1000]\n",
    "V_in1=[7.4,7.4,7.4]\n",
    "V_in2=[2.72,4.4]\n",
    "V_in3=[2.02,.168,.124,.1]\n",
    "A1=[]\n",
    "A2=[]\n",
    "A3=[]\n",
    "A4=[]"
   ]
  },
  {
   "cell_type": "code",
   "execution_count": 89,
   "metadata": {},
   "outputs": [],
   "source": [
    "for i in range(len(V_out1)):\n",
    "    A=(R1*V_out1[i])/(V_in1[i])\n",
    "    A1.append(A)\n",
    "    A4.append(A)\n",
    "for i in range(len(V_out2)):\n",
    "    B=(R2*V_out2[i])/(V_in2[i])\n",
    "    A2.append(B)\n",
    "    A4.append(B)\n",
    "for i in range(len(V_out3)):\n",
    "    C=(R3*V_out3[i])/(V_in3[i])\n",
    "    A3.append(C)\n",
    "    A4.append(C)\n",
    "    "
   ]
  },
  {
   "cell_type": "code",
   "execution_count": 90,
   "metadata": {},
   "outputs": [
    {
     "data": {
      "text/plain": [
       "[9.577135135135135, 8.386756756756757, 6.114216216216216]"
      ]
     },
     "execution_count": 90,
     "metadata": {},
     "output_type": "execute_result"
    }
   ],
   "source": [
    "A1"
   ]
  },
  {
   "cell_type": "code",
   "execution_count": 91,
   "metadata": {},
   "outputs": [
    {
     "data": {
      "text/plain": [
       "[0.6151764705882353, 0.32596363636363634]"
      ]
     },
     "execution_count": 91,
     "metadata": {},
     "output_type": "execute_result"
    }
   ],
   "source": [
    "A2"
   ]
  },
  {
   "cell_type": "code",
   "execution_count": 92,
   "metadata": {},
   "outputs": [
    {
     "data": {
      "text/plain": [
       "[4.587326732673267, 6.128571428571427, 7.170967741935483, 8.424]"
      ]
     },
     "execution_count": 92,
     "metadata": {},
     "output_type": "execute_result"
    }
   ],
   "source": [
    "A3"
   ]
  },
  {
   "cell_type": "code",
   "execution_count": 93,
   "metadata": {},
   "outputs": [
    {
     "data": {
      "text/plain": [
       "[9.577135135135135,\n",
       " 8.386756756756757,\n",
       " 6.114216216216216,\n",
       " 0.6151764705882353,\n",
       " 0.32596363636363634,\n",
       " 4.587326732673267,\n",
       " 6.128571428571427,\n",
       " 7.170967741935483,\n",
       " 8.424]"
      ]
     },
     "execution_count": 93,
     "metadata": {},
     "output_type": "execute_result"
    }
   ],
   "source": [
    "A4"
   ]
  },
  {
   "cell_type": "code",
   "execution_count": 126,
   "metadata": {},
   "outputs": [
    {
     "data": {
      "text/plain": [
       "[309800, 216900, 107700, 17760, 6226, 1233, 569.4, 347.7, 102.8]"
      ]
     },
     "execution_count": 126,
     "metadata": {},
     "output_type": "execute_result"
    }
   ],
   "source": [
    "F"
   ]
  },
  {
   "cell_type": "code",
   "execution_count": 138,
   "metadata": {},
   "outputs": [],
   "source": [
    "Freq=[309800, 216900, 107700, 17760, 6226]"
   ]
  },
  {
   "cell_type": "code",
   "execution_count": 144,
   "metadata": {},
   "outputs": [],
   "source": [
    "Freq.reverse()"
   ]
  },
  {
   "cell_type": "code",
   "execution_count": 140,
   "metadata": {},
   "outputs": [
    {
     "data": {
      "text/plain": [
       "[6226, 17760, 107700, 216900, 309800]"
      ]
     },
     "execution_count": 140,
     "metadata": {},
     "output_type": "execute_result"
    }
   ],
   "source": [
    "Freq"
   ]
  },
  {
   "cell_type": "code",
   "execution_count": 141,
   "metadata": {},
   "outputs": [],
   "source": [
    "Gain=[9.577135135135135,\n",
    " 8.386756756756757,\n",
    " 6.114216216216216,\n",
    " 0.6151764705882353,\n",
    " 0.32596363636363634]"
   ]
  },
  {
   "cell_type": "code",
   "execution_count": 145,
   "metadata": {},
   "outputs": [],
   "source": [
    "Gain.reverse()"
   ]
  },
  {
   "cell_type": "code",
   "execution_count": 151,
   "metadata": {},
   "outputs": [
    {
     "data": {
      "image/png": "[encoded data removed]",
      "text/plain": [
       "<Figure size 432x288 with 1 Axes>"
      ]
     },
     "metadata": {
      "needs_background": "light"
     },
     "output_type": "display_data"
    }
   ],
   "source": [
    "plt.plot(Freq,Gain,'.')\n",
    "# grab a reference to the current axes\n",
    "ax = plt.gca()\n",
    "# set the xlimits to be the reverse of the current xlimits\n",
    "ax.set_xlim(ax.get_xlim()[::-1])\n",
    "# call `draw` to re-render the graph\n",
    "plt.draw()\n"
   ]
  },
  {
   "cell_type": "code",
   "execution_count": 149,
   "metadata": {},
   "outputs": [
    {
     "data": {
      "text/plain": [
       "[309800, 216900, 107700, 17760, 6226]"
      ]
     },
     "execution_count": 149,
     "metadata": {},
     "output_type": "execute_result"
    }
   ],
   "source": [
    "Freq"
   ]
  },
  {
   "cell_type": "code",
   "execution_count": 164,
   "metadata": {},
   "outputs": [],
   "source": [
    "V1=[5,4.09,3.072,2.044,1.034,-1.035,-2.086,-3.023,-4.09,-5.14]\n",
    "V2=[-226.2,-135.2,-34,1.8,1.5,102.1,206.0,299.5,405.0,509.0]"
   ]
  },
  {
   "cell_type": "code",
   "execution_count": 165,
   "metadata": {},
   "outputs": [
    {
     "data": {
      "text/plain": [
       "[<matplotlib.lines.Line2D at 0x7fb6c1e6d9e8>]"
      ]
     },
     "execution_count": 165,
     "metadata": {},
     "output_type": "execute_result"
    },
    {
     "data": {
      "image/png": "[encoded data removed]",
      "text/plain": [
       "<Figure size 432x288 with 1 Axes>"
      ]
     },
     "metadata": {
      "needs_background": "light"
     },
     "output_type": "display_data"
    }
   ],
   "source": [
    "plt.plot(V1,V2,'.')"
   ]
  },
  {
   "cell_type": "code",
   "execution_count": 166,
   "metadata": {},
   "outputs": [
    {
     "data": {
      "text/plain": [
       "[5, 4.09, 3.072, 2.044, 1.034, -1.035, -2.086, -3.023, -4.09, -5.14]"
      ]
     },
     "execution_count": 166,
     "metadata": {},
     "output_type": "execute_result"
    }
   ],
   "source": [
    "V1"
   ]
  },
  {
   "cell_type": "code",
   "execution_count": 167,
   "metadata": {},
   "outputs": [
    {
     "data": {
      "text/plain": [
       "[-226.2, -135.2, -34, 1.8, 1.5, 102.1, 206.0, 299.5, 405.0, 509.0]"
      ]
     },
     "execution_count": 167,
     "metadata": {},
     "output_type": "execute_result"
    }
   ],
   "source": [
    "V2"
   ]
  },
  {
   "cell_type": "code",
   "execution_count": null,
   "metadata": {},
   "outputs": [],
   "source": []
  }
 ],
 "metadata": {
  "kernelspec": {
   "display_name": "Python 3",
   "language": "python",
   "name": "python3"
  },
  "language_info": {
   "codemirror_mode": {
    "name": "ipython",
    "version": 3
   },
   "file_extension": ".py",
   "mimetype": "text/x-python",
   "name": "python",
   "nbconvert_exporter": "python",
   "pygments_lexer": "ipython3",
   "version": "3.7.3"
  }
 },
 "nbformat": 4,
 "nbformat_minor": 2
}
