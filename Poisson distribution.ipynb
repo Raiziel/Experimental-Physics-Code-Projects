{
 "cells": [
  {
   "cell_type": "code",
   "execution_count": 412,
   "metadata": {},
   "outputs": [],
   "source": [
    "import statistics \n",
    "import numpy\n",
    "import math\n",
    "import numpy as np\n",
    "from numpy import log as ln\n",
    "import matplotlib.mlab as mlab\n",
    "import matplotlib.pyplot as plt\n",
    "from scipy.optimize import minimize\n",
    "from scipy.integrate import quad \n",
    "\n",
    "DataSet1 = [0,0,0,1,1,1,1,1,1,1,1,1,1,1,1,1,1,1,1,1,2,2,2,2,2,2,2,2,2,2,2,2,2,2,2,2,2,2,2,2,2,2,\n",
    "           3,3,3,3,3,3,3,3,3,3,3,3,3,3,4,4,4,4,4,4,4,4,4,4,4,4,4,4,4,4,4,4,4,4,\n",
    "           5,5,5,5,5,5,5,5,5,5,5,6,6,6,6,6,6,6,7,7,7,7,8]\n",
    "\n",
    "DataSet2 = [21,24,26,26,26,26,26,27,28,28,28,28,28,29,29,30,30,30,31,31,31,31,31,32,32,32,32,33,33,33,\n",
    "            34,34,34,34,35,35,35,35,35,36,36,36,36,37,37,38,39,39,40,41,41,41,41,42,42,42,44,44,45,46,47]\n",
    "DataSet3 = [314, 323, 323, 323, 327, 332, 338, 348, 352, 352, 358, 365, 392]\n",
    "\n",
    "DataSet4 = [0,0,0,0,0,0,0,0,1,1,1,1,1,1,1,1,1,1,1,1,1,1,1,1,1,1,1,1,1,1,1,1,1,1,1,1,1,1,\n",
    "            2,2,2,2,2,2,2,2,2,2,2,2,2,2,2,2,2,2,2,2,2,2,2,2,2,2,2,\n",
    "            3,3,3,3,3,3,3,3,3,3,3,3,3,3,3,3,3,3,4,4,4,4,4,4,4,4,4,5,5,5,5,5,5,5,6]"
   ]
  },
  {
   "cell_type": "code",
   "execution_count": 413,
   "metadata": {},
   "outputs": [],
   "source": [
    "def SampleSize(Set):\n",
    "    N = len(Set)\n",
    "    return N\n",
    "    "
   ]
  },
  {
   "cell_type": "code",
   "execution_count": 414,
   "metadata": {},
   "outputs": [],
   "source": [
    "# function to calculate factorial\n",
    "def Factorial(n):\n",
    "    \n",
    "    factorial = 1\n",
    "    if int(n) >= 0:\n",
    "        for i in range (1,int(n)+1):\n",
    "                factorial = factorial * i\n",
    "        return factorial"
   ]
  },
  {
   "cell_type": "code",
   "execution_count": 415,
   "metadata": {},
   "outputs": [],
   "source": [
    "# function to plot histogram\n",
    "def Histogram(x,N,Stat):\n",
    "    print(\"Total sample size of counts is:\", N)\n",
    "    print(\"Standard Deviation of the Data is:\",STD)\n",
    "    print(\"Variance of the Data is:\",variance)\n",
    "    print(\"Mean of the Data is:\", mean)\n",
    "    print(\"Uncertainty of the data is: +-\",Uncertainty)\n",
    "    num_bins = N\n",
    "    N, bins, patches = plt.hist(x, num_bins, facecolor='blue', alpha=0.5)\n",
    "    plt.title(\"Rate of occurence of counterate\")\n",
    "    plt.xlabel(\"r\")\n",
    "    plt.ylabel(\"Frequency of Occurence\")\n",
    "    plt.subplots_adjust(left=0.15)\n",
    "    plt.show()\n",
    "\n"
   ]
  },
  {
   "cell_type": "code",
   "execution_count": 416,
   "metadata": {},
   "outputs": [],
   "source": [
    "def Stat(Set):\n",
    "    mean = (statistics.mean(Set))\n",
    "    STD = (statistics.stdev(Set,xbar=None))\n",
    "    variance = (statistics.variance(Set))\n",
    "    Uncertainty = (STD/(math.sqrt(N)))\n",
    "    return mean,STD,variance,Uncertainty"
   ]
  },
  {
   "cell_type": "code",
   "execution_count": 425,
   "metadata": {},
   "outputs": [],
   "source": [
    "# function to model the occurence of counts of particles hitting the detector\n",
    "def Poisson(mean,STD,variance,Factorial,Set,SampleSize):\n",
    "    Pset=[]\n",
    "    for i in Set:\n",
    "        P = ((np.power(mean,i))*(math.exp(-mean)))*(1/(Factorial(i)))\n",
    "        print (\"P for r value of\", i, \"is\", P)\n",
    "        Pset.append(P)\n",
    "    \n",
    "    plt.plot(Set,Pset)\n",
    "    plt.xlabel(\"r \")\n",
    "    plt.ylabel(\"P(r,λ) Probability of r to occur\")\n",
    "    "
   ]
  },
  {
   "cell_type": "code",
   "execution_count": 426,
   "metadata": {},
   "outputs": [],
   "source": [
    "\n",
    "\n",
    "#for i in rset:\n",
    "        \n",
    "      #  Pset2z = N*np.array(Pset2)\n",
    "       # print (\"P(r,λ) for r value of\", i, \"is\",Pset2z[i])\n",
    "#plt.plot(rset,Pset2z)\n",
    "#plt.title(\"Distribution of Probability for Each R Count\")\n",
    "#plt.xlabel(\"r \")\n",
    "#plt.ylabel(\"P(r,λ)\")"
   ]
  },
  {
   "cell_type": "code",
   "execution_count": 427,
   "metadata": {},
   "outputs": [
    {
     "name": "stdout",
     "output_type": "stream",
     "text": [
      "Total sample size of counts is: 99\n",
      "Standard Deviation of the Data is: 5.976319389274886\n",
      "Variance of the Data is: 35.71639344262295\n",
      "Mean of the Data is: 33.98360655737705\n",
      "Uncertainty of the data is: +- 0.7651892880852268\n"
     ]
    },
    {
     "data": {
      "image/png": "[encoded data removed]",
      "text/plain": [
       "<Figure size 432x288 with 1 Axes>"
      ]
     },
     "metadata": {
      "needs_background": "light"
     },
     "output_type": "display_data"
    },
    {
     "name": "stdout",
     "output_type": "stream",
     "text": [
      "P for r value of 0 is 1.742236856859047e-15\n",
      "P for r value of 0 is 1.742236856859047e-15\n",
      "P for r value of 0 is 1.742236856859047e-15\n",
      "P for r value of 1 is 5.920749187325909e-14\n",
      "P for r value of 1 is 5.920749187325909e-14\n",
      "P for r value of 1 is 5.920749187325909e-14\n",
      "P for r value of 1 is 5.920749187325909e-14\n",
      "P for r value of 1 is 5.920749187325909e-14\n",
      "P for r value of 1 is 5.920749187325909e-14\n",
      "P for r value of 1 is 5.920749187325909e-14\n",
      "P for r value of 1 is 5.920749187325909e-14\n",
      "P for r value of 1 is 5.920749187325909e-14\n",
      "P for r value of 1 is 5.920749187325909e-14\n",
      "P for r value of 1 is 5.920749187325909e-14\n",
      "P for r value of 1 is 5.920749187325909e-14\n",
      "P for r value of 1 is 5.920749187325909e-14\n",
      "P for r value of 1 is 5.920749187325909e-14\n",
      "P for r value of 1 is 5.920749187325909e-14\n",
      "P for r value of 1 is 5.920749187325909e-14\n",
      "P for r value of 1 is 5.920749187325909e-14\n",
      "P for r value of 2 is 1.006042054534968e-12\n",
      "P for r value of 2 is 1.006042054534968e-12\n",
      "P for r value of 2 is 1.006042054534968e-12\n",
      "P for r value of 2 is 1.006042054534968e-12\n",
      "P for r value of 2 is 1.006042054534968e-12\n",
      "P for r value of 2 is 1.006042054534968e-12\n",
      "P for r value of 2 is 1.006042054534968e-12\n",
      "P for r value of 2 is 1.006042054534968e-12\n",
      "P for r value of 2 is 1.006042054534968e-12\n",
      "P for r value of 2 is 1.006042054534968e-12\n",
      "P for r value of 2 is 1.006042054534968e-12\n",
      "P for r value of 2 is 1.006042054534968e-12\n",
      "P for r value of 2 is 1.006042054534968e-12\n",
      "P for r value of 2 is 1.006042054534968e-12\n",
      "P for r value of 2 is 1.006042054534968e-12\n",
      "P for r value of 2 is 1.006042054534968e-12\n",
      "P for r value of 2 is 1.006042054534968e-12\n",
      "P for r value of 2 is 1.006042054534968e-12\n",
      "P for r value of 2 is 1.006042054534968e-12\n",
      "P for r value of 2 is 1.006042054534968e-12\n",
      "P for r value of 2 is 1.006042054534968e-12\n",
      "P for r value of 2 is 1.006042054534968e-12\n",
      "P for r value of 3 is 1.139631245383054e-11\n",
      "P for r value of 3 is 1.139631245383054e-11\n",
      "P for r value of 3 is 1.139631245383054e-11\n",
      "P for r value of 3 is 1.139631245383054e-11\n",
      "P for r value of 3 is 1.139631245383054e-11\n",
      "P for r value of 3 is 1.139631245383054e-11\n",
      "P for r value of 3 is 1.139631245383054e-11\n",
      "P for r value of 3 is 1.139631245383054e-11\n",
      "P for r value of 3 is 1.139631245383054e-11\n",
      "P for r value of 3 is 1.139631245383054e-11\n",
      "P for r value of 3 is 1.139631245383054e-11\n",
      "P for r value of 3 is 1.139631245383054e-11\n",
      "P for r value of 3 is 1.139631245383054e-11\n",
      "P for r value of 3 is 1.139631245383054e-11\n",
      "P for r value of 4 is 9.682194965897834e-11\n",
      "P for r value of 4 is 9.682194965897834e-11\n",
      "P for r value of 4 is 9.682194965897834e-11\n",
      "P for r value of 4 is 9.682194965897834e-11\n",
      "P for r value of 4 is 9.682194965897834e-11\n",
      "P for r value of 4 is 9.682194965897834e-11\n",
      "P for r value of 4 is 9.682194965897834e-11\n",
      "P for r value of 4 is 9.682194965897834e-11\n",
      "P for r value of 4 is 9.682194965897834e-11\n",
      "P for r value of 4 is 9.682194965897834e-11\n",
      "P for r value of 4 is 9.682194965897834e-11\n",
      "P for r value of 4 is 9.682194965897834e-11\n",
      "P for r value of 4 is 9.682194965897834e-11\n",
      "P for r value of 4 is 9.682194965897834e-11\n",
      "P for r value of 4 is 9.682194965897834e-11\n",
      "P for r value of 4 is 9.682194965897834e-11\n",
      "P for r value of 4 is 9.682194965897834e-11\n",
      "P for r value of 4 is 9.682194965897834e-11\n",
      "P for r value of 4 is 9.682194965897834e-11\n",
      "P for r value of 4 is 9.682194965897834e-11\n",
      "P for r value of 5 is 6.580718086657773e-10\n",
      "P for r value of 5 is 6.580718086657773e-10\n",
      "P for r value of 5 is 6.580718086657773e-10\n",
      "P for r value of 5 is 6.580718086657773e-10\n",
      "P for r value of 5 is 6.580718086657773e-10\n",
      "P for r value of 5 is 6.580718086657773e-10\n",
      "P for r value of 5 is 6.580718086657773e-10\n",
      "P for r value of 5 is 6.580718086657773e-10\n",
      "P for r value of 5 is 6.580718086657773e-10\n",
      "P for r value of 5 is 6.580718086657773e-10\n",
      "P for r value of 5 is 6.580718086657773e-10\n",
      "P for r value of 6 is 3.727275572033215e-09\n",
      "P for r value of 6 is 3.727275572033215e-09\n",
      "P for r value of 6 is 3.727275572033215e-09\n",
      "P for r value of 6 is 3.727275572033215e-09\n",
      "P for r value of 6 is 3.727275572033215e-09\n",
      "P for r value of 6 is 3.727275572033215e-09\n",
      "P for r value of 6 is 3.727275572033215e-09\n",
      "P for r value of 7 is 1.8095180938699894e-08\n",
      "P for r value of 7 is 1.8095180938699894e-08\n",
      "P for r value of 7 is 1.8095180938699894e-08\n",
      "P for r value of 7 is 1.8095180938699894e-08\n",
      "P for r value of 8 is 7.686743870066573e-08\n"
     ]
    },
    {
     "data": {
      "image/png": "[encoded data removed]",
      "text/plain": [
       "<Figure size 432x288 with 1 Axes>"
      ]
     },
     "metadata": {
      "needs_background": "light"
     },
     "output_type": "display_data"
    }
   ],
   "source": [
    "# V = 730, t = 0.1m, N=101\n",
    "#Data Set 1\n",
    "Stat(DataSet1)\n",
    "SampleSize(DataSet1)\n",
    "Histogram(DataSet1,SampleSize(DataSet1),Stat(DataSet1))\n",
    "Poisson(mean,STD,variance,Factorial,DataSet1,SampleSize(DataSet1))\n"
   ]
  },
  {
   "cell_type": "code",
   "execution_count": 428,
   "metadata": {},
   "outputs": [
    {
     "name": "stdout",
     "output_type": "stream",
     "text": [
      "Total sample size of counts is: 61\n",
      "Standard Deviation of the Data is: 5.976319389274886\n",
      "Variance of the Data is: 35.71639344262295\n",
      "Mean of the Data is: 33.98360655737705\n",
      "Uncertainty of the data is: +- 0.7651892880852268\n"
     ]
    },
    {
     "data": {
      "image/png": "[encoded data removed]",
      "text/plain": [
       "<Figure size 432x288 with 1 Axes>"
      ]
     },
     "metadata": {
      "needs_background": "light"
     },
     "output_type": "display_data"
    },
    {
     "name": "stdout",
     "output_type": "stream",
     "text": [
      "P for r value of 21 is 0.0048912751513492045\n",
      "P for r value of 24 is 0.01580770187636413\n",
      "P for r value of 26 is 0.02808628602594588\n",
      "P for r value of 26 is 0.02808628602594588\n",
      "P for r value of 26 is 0.02808628602594588\n",
      "P for r value of 26 is 0.02808628602594588\n",
      "P for r value of 26 is 0.02808628602594588\n",
      "P for r value of 27 is 0.03535086273939636\n",
      "P for r value of 28 is 0.042905350385695935\n",
      "P for r value of 28 is 0.042905350385695935\n",
      "P for r value of 28 is 0.042905350385695935\n",
      "P for r value of 28 is 0.042905350385695935\n",
      "P for r value of 28 is 0.042905350385695935\n",
      "P for r value of 29 is 0.050278570576341254\n",
      "P for r value of 29 is 0.050278570576341254\n",
      "P for r value of 30 is 0.05695490535778986\n",
      "P for r value of 30 is 0.05695490535778986\n",
      "P for r value of 30 is 0.05695490535778986\n",
      "P for r value of 31 is 0.06243655145779924\n",
      "P for r value of 31 is 0.06243655145779924\n",
      "P for r value of 31 is 0.06243655145779924\n",
      "P for r value of 31 is 0.06243655145779924\n",
      "P for r value of 31 is 0.06243655145779924\n",
      "P for r value of 32 is 0.06630684998566488\n",
      "P for r value of 32 is 0.06630684998566488\n",
      "P for r value of 32 is 0.06630684998566488\n",
      "P for r value of 32 is 0.06630684998566488\n",
      "P for r value of 33 is 0.06828320915066236\n",
      "P for r value of 33 is 0.06828320915066236\n",
      "P for r value of 33 is 0.06828320915066236\n",
      "P for r value of 34 is 0.06825028571327052\n",
      "P for r value of 34 is 0.06825028571327052\n",
      "P for r value of 34 is 0.06825028571327052\n",
      "P for r value of 34 is 0.06825028571327052\n",
      "P for r value of 35 is 0.06626831020309593\n",
      "P for r value of 35 is 0.06626831020309593\n",
      "P for r value of 35 is 0.06626831020309593\n",
      "P for r value of 35 is 0.06626831020309593\n",
      "P for r value of 35 is 0.06626831020309593\n",
      "P for r value of 36 is 0.0625565605878952\n",
      "P for r value of 36 is 0.0625565605878952\n",
      "P for r value of 36 is 0.0625565605878952\n",
      "P for r value of 36 is 0.0625565605878952\n",
      "P for r value of 37 is 0.05745669034058784\n",
      "P for r value of 37 is 0.05745669034058784\n",
      "P for r value of 38 is 0.051383830490094304\n",
      "P for r value of 39 is 0.04477456099452102\n",
      "P for r value of 39 is 0.04477456099452102\n",
      "P for r value of 40 is 0.03804002661542708\n",
      "P for r value of 41 is 0.031530177998312814\n",
      "P for r value of 41 is 0.031530177998312814\n",
      "P for r value of 41 is 0.031530177998312814\n",
      "P for r value of 41 is 0.031530177998312814\n",
      "P for r value of 42 is 0.02551212294711259\n",
      "P for r value of 42 is 0.02551212294711259\n",
      "P for r value of 42 is 0.02551212294711259\n",
      "P for r value of 44 is 0.015572717357031432\n",
      "P for r value of 44 is 0.015572717357031432\n",
      "P for r value of 45 is 0.011760379993124287\n",
      "P for r value of 46 is 0.008688263622860529\n",
      "P for r value of 47 is 0.006282096438852417\n"
     ]
    },
    {
     "data": {
      "image/png": "[encoded data removed]",
      "text/plain": [
       "<Figure size 432x288 with 1 Axes>"
      ]
     },
     "metadata": {
      "needs_background": "light"
     },
     "output_type": "display_data"
    }
   ],
   "source": [
    "# Data Set 2 : t = 1m, N = 61, V = 730\n",
    "Stat(DataSet2)\n",
    "SampleSize(DataSet2)\n",
    "Histogram(DataSet2,SampleSize(DataSet2),Stat(DataSet2))\n",
    "Poisson(mean,STD,variance,Factorial,DataSet2,SampleSize(DataSet2))"
   ]
  },
  {
   "cell_type": "code",
   "execution_count": 429,
   "metadata": {},
   "outputs": [
    {
     "name": "stdout",
     "output_type": "stream",
     "text": [
      "Total sample size of counts is: 13\n",
      "Standard Deviation of the Data is: 5.976319389274886\n",
      "Variance of the Data is: 35.71639344262295\n",
      "Mean of the Data is: 33.98360655737705\n",
      "Uncertainty of the data is: +- 0.7651892880852268\n"
     ]
    },
    {
     "data": {
      "image/png": "[encoded data removed]",
      "text/plain": [
       "<Figure size 432x288 with 1 Axes>"
      ]
     },
     "metadata": {
      "needs_background": "light"
     },
     "output_type": "display_data"
    },
    {
     "name": "stdout",
     "output_type": "stream",
     "text": [
      "P for r value of 314 is nan\n",
      "P for r value of 323 is nan\n",
      "P for r value of 323 is nan\n",
      "P for r value of 323 is nan\n",
      "P for r value of 327 is nan\n",
      "P for r value of 332 is nan\n",
      "P for r value of 338 is nan\n",
      "P for r value of 348 is nan\n",
      "P for r value of 352 is nan\n",
      "P for r value of 352 is nan\n",
      "P for r value of 358 is nan\n",
      "P for r value of 365 is nan\n",
      "P for r value of 392 is nan\n"
     ]
    },
    {
     "name": "stderr",
     "output_type": "stream",
     "text": [
      "/Users/raiziel/miniconda3/lib/python3.7/site-packages/ipykernel_launcher.py:5: RuntimeWarning: overflow encountered in power\n",
      "  \"\"\"\n",
      "/Users/raiziel/miniconda3/lib/python3.7/site-packages/ipykernel_launcher.py:5: RuntimeWarning: invalid value encountered in double_scalars\n",
      "  \"\"\"\n"
     ]
    },
    {
     "data": {
      "image/png": "[encoded data removed]",
      "text/plain": [
       "<Figure size 432x288 with 1 Axes>"
      ]
     },
     "metadata": {
      "needs_background": "light"
     },
     "output_type": "display_data"
    }
   ],
   "source": [
    "# Data Set 3 : t = 10.0m, N = 13, V = 730\n",
    "Stat(DataSet3)\n",
    "SampleSize(DataSet3)\n",
    "Histogram(DataSet3,SampleSize(DataSet3),Stat(DataSet3))\n",
    "Poisson(mean,STD,variance,Factorial,DataSet3,SampleSize(DataSet3))"
   ]
  },
  {
   "cell_type": "code",
   "execution_count": 430,
   "metadata": {},
   "outputs": [
    {
     "name": "stdout",
     "output_type": "stream",
     "text": [
      "Total sample size of counts is: 100\n",
      "Standard Deviation of the Data is: 5.976319389274886\n",
      "Variance of the Data is: 35.71639344262295\n",
      "Mean of the Data is: 33.98360655737705\n",
      "Uncertainty of the data is: +- 0.7651892880852268\n"
     ]
    },
    {
     "data": {
      "image/png": "[encoded data removed]",
      "text/plain": [
       "<Figure size 432x288 with 1 Axes>"
      ]
     },
     "metadata": {
      "needs_background": "light"
     },
     "output_type": "display_data"
    },
    {
     "name": "stdout",
     "output_type": "stream",
     "text": [
      "P for r value of 0 is 1.742236856859047e-15\n",
      "P for r value of 0 is 1.742236856859047e-15\n",
      "P for r value of 0 is 1.742236856859047e-15\n",
      "P for r value of 0 is 1.742236856859047e-15\n",
      "P for r value of 0 is 1.742236856859047e-15\n",
      "P for r value of 0 is 1.742236856859047e-15\n",
      "P for r value of 0 is 1.742236856859047e-15\n",
      "P for r value of 0 is 1.742236856859047e-15\n",
      "P for r value of 1 is 5.920749187325909e-14\n",
      "P for r value of 1 is 5.920749187325909e-14\n",
      "P for r value of 1 is 5.920749187325909e-14\n",
      "P for r value of 1 is 5.920749187325909e-14\n",
      "P for r value of 1 is 5.920749187325909e-14\n",
      "P for r value of 1 is 5.920749187325909e-14\n",
      "P for r value of 1 is 5.920749187325909e-14\n",
      "P for r value of 1 is 5.920749187325909e-14\n",
      "P for r value of 1 is 5.920749187325909e-14\n",
      "P for r value of 1 is 5.920749187325909e-14\n",
      "P for r value of 1 is 5.920749187325909e-14\n",
      "P for r value of 1 is 5.920749187325909e-14\n",
      "P for r value of 1 is 5.920749187325909e-14\n",
      "P for r value of 1 is 5.920749187325909e-14\n",
      "P for r value of 1 is 5.920749187325909e-14\n",
      "P for r value of 1 is 5.920749187325909e-14\n",
      "P for r value of 1 is 5.920749187325909e-14\n",
      "P for r value of 1 is 5.920749187325909e-14\n",
      "P for r value of 1 is 5.920749187325909e-14\n",
      "P for r value of 1 is 5.920749187325909e-14\n",
      "P for r value of 1 is 5.920749187325909e-14\n",
      "P for r value of 1 is 5.920749187325909e-14\n",
      "P for r value of 1 is 5.920749187325909e-14\n",
      "P for r value of 1 is 5.920749187325909e-14\n",
      "P for r value of 1 is 5.920749187325909e-14\n",
      "P for r value of 1 is 5.920749187325909e-14\n",
      "P for r value of 1 is 5.920749187325909e-14\n",
      "P for r value of 1 is 5.920749187325909e-14\n",
      "P for r value of 1 is 5.920749187325909e-14\n",
      "P for r value of 1 is 5.920749187325909e-14\n",
      "P for r value of 2 is 1.006042054534968e-12\n",
      "P for r value of 2 is 1.006042054534968e-12\n",
      "P for r value of 2 is 1.006042054534968e-12\n",
      "P for r value of 2 is 1.006042054534968e-12\n",
      "P for r value of 2 is 1.006042054534968e-12\n",
      "P for r value of 2 is 1.006042054534968e-12\n",
      "P for r value of 2 is 1.006042054534968e-12\n",
      "P for r value of 2 is 1.006042054534968e-12\n",
      "P for r value of 2 is 1.006042054534968e-12\n",
      "P for r value of 2 is 1.006042054534968e-12\n",
      "P for r value of 2 is 1.006042054534968e-12\n",
      "P for r value of 2 is 1.006042054534968e-12\n",
      "P for r value of 2 is 1.006042054534968e-12\n",
      "P for r value of 2 is 1.006042054534968e-12\n",
      "P for r value of 2 is 1.006042054534968e-12\n",
      "P for r value of 2 is 1.006042054534968e-12\n",
      "P for r value of 2 is 1.006042054534968e-12\n",
      "P for r value of 2 is 1.006042054534968e-12\n",
      "P for r value of 2 is 1.006042054534968e-12\n",
      "P for r value of 2 is 1.006042054534968e-12\n",
      "P for r value of 2 is 1.006042054534968e-12\n",
      "P for r value of 2 is 1.006042054534968e-12\n",
      "P for r value of 2 is 1.006042054534968e-12\n",
      "P for r value of 2 is 1.006042054534968e-12\n",
      "P for r value of 2 is 1.006042054534968e-12\n",
      "P for r value of 2 is 1.006042054534968e-12\n",
      "P for r value of 2 is 1.006042054534968e-12\n",
      "P for r value of 3 is 1.139631245383054e-11\n",
      "P for r value of 3 is 1.139631245383054e-11\n",
      "P for r value of 3 is 1.139631245383054e-11\n",
      "P for r value of 3 is 1.139631245383054e-11\n",
      "P for r value of 3 is 1.139631245383054e-11\n",
      "P for r value of 3 is 1.139631245383054e-11\n",
      "P for r value of 3 is 1.139631245383054e-11\n",
      "P for r value of 3 is 1.139631245383054e-11\n",
      "P for r value of 3 is 1.139631245383054e-11\n",
      "P for r value of 3 is 1.139631245383054e-11\n",
      "P for r value of 3 is 1.139631245383054e-11\n",
      "P for r value of 3 is 1.139631245383054e-11\n",
      "P for r value of 3 is 1.139631245383054e-11\n",
      "P for r value of 3 is 1.139631245383054e-11\n",
      "P for r value of 3 is 1.139631245383054e-11\n",
      "P for r value of 3 is 1.139631245383054e-11\n",
      "P for r value of 3 is 1.139631245383054e-11\n",
      "P for r value of 3 is 1.139631245383054e-11\n",
      "P for r value of 4 is 9.682194965897834e-11\n",
      "P for r value of 4 is 9.682194965897834e-11\n",
      "P for r value of 4 is 9.682194965897834e-11\n",
      "P for r value of 4 is 9.682194965897834e-11\n",
      "P for r value of 4 is 9.682194965897834e-11\n",
      "P for r value of 4 is 9.682194965897834e-11\n",
      "P for r value of 4 is 9.682194965897834e-11\n",
      "P for r value of 4 is 9.682194965897834e-11\n",
      "P for r value of 4 is 9.682194965897834e-11\n",
      "P for r value of 5 is 6.580718086657773e-10\n",
      "P for r value of 5 is 6.580718086657773e-10\n",
      "P for r value of 5 is 6.580718086657773e-10\n",
      "P for r value of 5 is 6.580718086657773e-10\n",
      "P for r value of 5 is 6.580718086657773e-10\n",
      "P for r value of 5 is 6.580718086657773e-10\n",
      "P for r value of 5 is 6.580718086657773e-10\n",
      "P for r value of 6 is 3.727275572033215e-09\n"
     ]
    },
    {
     "data": {
      "image/png": "[encoded data removed]",
      "text/plain": [
       "<Figure size 432x288 with 1 Axes>"
      ]
     },
     "metadata": {
      "needs_background": "light"
     },
     "output_type": "display_data"
    }
   ],
   "source": [
    "# Data Set 4 : t = 1.0m, N = 100, V = 730\n",
    "Stat(DataSet4)\n",
    "SampleSize(DataSet4)\n",
    "Histogram(DataSet4,SampleSize(DataSet4),Stat(DataSet4))\n",
    "Poisson(mean,STD,variance,Factorial,DataSet4,SampleSize(DataSet4))"
   ]
  },
  {
   "cell_type": "code",
   "execution_count": null,
   "metadata": {},
   "outputs": [],
   "source": []
  }
 ],
 "metadata": {
  "kernelspec": {
   "display_name": "Python 3",
   "language": "python",
   "name": "python3"
  },
  "language_info": {
   "codemirror_mode": {
    "name": "ipython",
    "version": 3
   },
   "file_extension": ".py",
   "mimetype": "text/x-python",
   "name": "python",
   "nbconvert_exporter": "python",
   "pygments_lexer": "ipython3",
   "version": "3.7.3"
  }
 },
 "nbformat": 4,
 "nbformat_minor": 2
}
