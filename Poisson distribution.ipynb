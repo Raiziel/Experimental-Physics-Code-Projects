{
 "cells": [
  {
   "cell_type": "code",
   "execution_count": 275,
   "metadata": {},
   "outputs": [],
   "source": [
    "\n",
    "\n",
    "#for i in rset:\n",
    "        \n",
    "      #  Pset2z = N*np.array(Pset2)\n",
    "       # print (\"P(r,λ) for r value of\", i, \"is\",Pset2z[i])\n",
    "#plt.plot(rset,Pset2z)\n",
    "#plt.title(\"Distribution of Probability for Each R Count\")\n",
    "#plt.xlabel(\"r \")\n",
    "#plt.ylabel(\"P(r,λ)\")"
   ]
  },
  {
   "cell_type": "code",
   "execution_count": 434,
   "metadata": {},
   "outputs": [],
   "source": [
    "import statistics \n",
    "import numpy\n",
    "import math\n",
    "import numpy as np\n",
    "from numpy import log as ln\n",
    "import matplotlib.mlab as mlab\n",
    "import matplotlib.pyplot as plt\n",
    "from scipy.optimize import minimize\n",
    "from scipy.integrate import quad \n",
    "from scipy.stats import chisquare\n",
    "from scipy.special import gamma\n",
    "\n",
    "from decimal import Decimal\n",
    "\n",
    "# 0.1m no shield\n",
    "DataSet1 = [1,2,3,0,4,2,1,5,5,3,2,4,3,4,5,5,1,2,2,3,1,2,1,5,2,4,1,3,3,3,3,3,2,3,3,1,1\n",
    "          ,1,2,3,1,7,2,3,3,2,2,1,2,2,2,3,1,1,0,3,3,0,3,7,3,4,2,2,3,4,6,2,3,4,3,1,6\n",
    "          ,2,2,2,2,2,3,3,7,5,3,7,4,0,3,1,4,3,4,4,3,2,1,1,4,3,2,1,1,2\n",
    "          ,3,2,2,1,1,2,1,7,2,3,3,3,1,2,1,3,2,5,2,1,4,5,1,1,1,1,4,1,1,2,2,2,5\n",
    "          ,2,2,2,1,2,0,5,3,3,5,1,4,3,2,0,3,1,4,2,3,3,3,5,2,2,7,4,1,3,3,2,2\n",
    "          ,3,2,2,0,2,0,5,2,3,4,2,3,3,2,2,3,2,4,3,8,3,2,2,0,2,3,4,3,6,1,1,2,6,4\n",
    "          ,2,2,1,6,3,2,1,0,2,1,2,2,1,3,2,1,3,2,3,3,2,3,3,1,2,1,4,1,1,0,2,1,2,3,3,3,3,5,1,1,5,1,1,2,4,1,2,4,9]\n",
    "# 1m\n",
    "DataSet2 = [31,28,34,25,38,37,37,31,38,30,22,36,25,28,33,35,26,24,34,33,26,27,21,25,29\n",
    "           ,23,22,36,19,27,35,37,20,20,34,20,31,30,21,27,29,28,30,35,33,25,15,31,24,33\n",
    "           ,19,28,30,24,25,35,27,25,33,38,16,20,25,21,34,26,25,26,25,21,20,25,34,28,26\n",
    "           ,26,34,20,25,26,24,29,19,27,34,24,21,32,28,25,29,30,28,30,24,18,28,23,30,20]\n",
    "           \n",
    "# 10m\n",
    "DataSet3 = [285,298,260,273,285,262,276,281,286,290,273,303,257,267,275,295,302,246,300,301]\n",
    "# 0.1m w/ Shield\n",
    "DataSet4 = [2,0,1,0,2,2,4,1,3,0,2,0,2,2,2,1,1,1,2,0,1,1,1,2,2\n",
    "           ,0,2,2,2,3,2,3,2,2,2,4,2,3,1,2,4,1,2,2,1,4,2,1,1,4\n",
    "           ,2,1,1,0,4,1,1,3,3,3,1,0,1,1,1,1,3,2,3,2,1,1,2,3,2\n",
    "           ,3,2,1,5,0,3,2,1,2,2,2,3,6,2,3,1,2,2,2,2,2,2,1,0,3\n",
    "           ,3,2,1,3,0,2,1,0,1,1,0,2,0,2,2,2,3,1,1,2,0,0,5,1,1\n",
    "           ,2,1,3,2,1,3,1,2,2,2,4,0,2,0,1,0,1,3,1,1,2,2,1,1,3\n",
    "           ,3,0,3,1,1,2,3,1,3,0,2,0,2,0,1,1,1,5,1,3,2,0,0,3,1\n",
    "           ,1,3,0,1,2,3,2,1,3,1,0,3,2,2,1,3,1,0,1,3,2,3,0,1,1\n",
    "           ,4,2,2,2,1,2,1,2,3,1,0,1,1,3,1,2,0,1,2,2,0,1,0,1,1\n",
    "           ,3,2,1,1,1,3,3,2,0,1,2,3,1,3,2,2,1,1,1,1,1,1,2,4,0]\n",
    "                                                                                                        \n",
    "\n",
    "\n",
    "DataSet1.sort()\n",
    "DataSet2.sort()\n",
    "DataSet3.sort()\n",
    "DataSet4.sort()"
   ]
  },
  {
   "cell_type": "code",
   "execution_count": 277,
   "metadata": {},
   "outputs": [],
   "source": [
    "def SampleSize(Set):\n",
    "    N = len(Set)\n",
    "    return N\n",
    "    "
   ]
  },
  {
   "cell_type": "code",
   "execution_count": 278,
   "metadata": {},
   "outputs": [],
   "source": [
    "# function to calculate factorial\n",
    "def Factorial(N):\n",
    "    \n",
    "    factorial = 1\n",
    "    if int(N) >= 0:\n",
    "        for i in range (1,int(N)+1):\n",
    "                factorial = factorial * i\n",
    "        return factorial"
   ]
  },
  {
   "cell_type": "code",
   "execution_count": 279,
   "metadata": {},
   "outputs": [],
   "source": [
    "# function to plot histogram\n",
    "def Histogram(Set,Stat):\n",
    "    \n",
    "    mean,STD,variance,uncertainty=Stat\n",
    "    N = SampleSize(Set)\n",
    "    \n",
    "    num_bins = N\n",
    "    N, bins, patches = plt.hist(Set, num_bins, facecolor='blue',edgecolor='black',linewidth='1.2', alpha=0.5)\n",
    "    plt.title(\"Rate of occurence of counterate\")\n",
    "    plt.xlabel(\"count\")\n",
    "    plt.ylabel(\"Frequency of Occurence\")\n",
    "    plt.subplots_adjust(left=0.15)\n",
    "    plt.show()\n",
    "    \n",
    "\n"
   ]
  },
  {
   "cell_type": "code",
   "execution_count": 280,
   "metadata": {},
   "outputs": [],
   "source": [
    "def Stat(Set):\n",
    "    N = SampleSize(Set)\n",
    "    mean = (statistics.mean(Set))\n",
    "    STD = (statistics.stdev(Set,xbar=None))\n",
    "    variance = (statistics.variance(Set))\n",
    "    Uncertainty = (STD/(math.sqrt(N)))\n",
    "    \n",
    "    return mean,STD,variance,Uncertainty"
   ]
  },
  {
   "cell_type": "code",
   "execution_count": 646,
   "metadata": {},
   "outputs": [],
   "source": [
    "def ChiSquared(Stat,Factorial,Set,SampleSize,Count):\n",
    "    Pset=[]\n",
    "    Eset=[]\n",
    "    Probability=[]\n",
    "    Cset = Count\n",
    "    mean,STD,variance,uncertainty=Stat\n",
    "    N=SampleSize\n",
    "    \n",
    "    for i in Set:\n",
    "        if(i>100):\n",
    "            P = (((np.exp(i-mean))*((mean/i)**i))/ (math.sqrt(2*np.pi*i)))*N\n",
    "            #print (\"P for r value of\", i, \"is\", P)\n",
    "            Pset.append(P)\n",
    "            \n",
    "        else:\n",
    "            P = (((mean**i)*(math.exp(-mean)/(Factorial(i)))))*N\n",
    "            #print (\"P for r value of\", i, \"is\", P)\n",
    "            Pset.append(P)\n",
    "\n",
    "    Pstd = statistics.stdev(Pset)\n",
    "    PUncertain = (Pstd/(math.sqrt(N)))\n",
    "    \n",
    "    for i in Cset:\n",
    "        prob = (i/N)\n",
    "        Probability=np.append(Probability,prob)\n",
    "    for i in Probability:\n",
    "        Estat = np.sqrt(N*i*(1-i))\n",
    "        Eset=np.append(Eset,Estat)\n",
    "    ChiSquare =[]\n",
    "    ChiSum = 0\n",
    "    for i in range(len(Set)):\n",
    "        ChiStat = np.square((Cset[i]- Pset[i]))/np.square(Eset[i])\n",
    "        ChiSum = ChiStat+ChiSum\n",
    "        ChiSquare=np.append(ChiSquare,ChiStat)\n",
    "        \n",
    "    #print(ChiSquare)\n",
    "    return ChiSum\n",
    "    #print(len(Set))"
   ]
  },
  {
   "cell_type": "code",
   "execution_count": 931,
   "metadata": {},
   "outputs": [],
   "source": [
    "# function to model the occurence of counts of particles hitting the detector\n",
    "def Poisson(Stat,Factorial,Set,SampleSize,Count):\n",
    "    Pset=[]\n",
    "    Eset=[]\n",
    "    Probability=[]\n",
    "    Cset = Count\n",
    "\n",
    "    mean,STD,variance,uncertainty=Stat\n",
    "    N=SampleSize\n",
    "    \n",
    "    for i in Set:\n",
    "        if(i>100):\n",
    "            P = (((np.exp(i-mean))*((mean/i)**i))/ (math.sqrt(2*np.pi*i)))*N\n",
    "            #print (\"P for r value of\", i, \"is\", P)\n",
    "            Pset.append(P)\n",
    "            \n",
    "        else:\n",
    "            P = (((mean**i)*(math.exp(-mean)/(Factorial(i)))))*N\n",
    "            #print (\"P for r value of\", i, \"is\", P)\n",
    "            Pset.append(P)\n",
    "\n",
    "    Pstd = statistics.stdev(Pset)\n",
    "    PUncertain = (Pstd/(math.sqrt(N)))\n",
    "    \n",
    "    for i in Cset:\n",
    "        prob = (i/N)\n",
    "        Probability=np.append(Probability,prob)\n",
    "    for i in Probability:\n",
    "        Estat = np.sqrt(N*i*(1-i))\n",
    "        Eset=np.append(Eset,Estat)\n",
    "  \n",
    "    \n",
    "        \n",
    "    \n",
    "    \n",
    "    a,b,c,d,e = Set,Pset,Cset,Probability,Eset\n",
    "    \n",
    "    #plt.plot(Set,Pset,'o',label='Expected counts')\n",
    "    plt.plot(Set,Cset,'o',label='Observed Counts')\n",
    "    plt.errorbar(a, b, e, xerr=None, fmt='', ecolor='r', elinewidth=0.5, capsize=None, barsabove=False, lolims=0, uplims=False, xlolims=False, xuplims=False, errorevery=1, capthick=None)\n",
    "    plt.xlabel(\"Count Number \")\n",
    "    plt.ylabel(\"Number of Counts\")\n",
    "    plt.legend()\n",
    "    "
   ]
  },
  {
   "cell_type": "code",
   "execution_count": 932,
   "metadata": {},
   "outputs": [],
   "source": [
    "def Count(Set):\n",
    "    count=[]\n",
    "    \n",
    "    for i in Set:\n",
    "        Z=Set.count(i)\n",
    "        #print(\"Count R of \", i, \"is\", Z)\n",
    "        count.append(Z)\n",
    "    return count\n"
   ]
  },
  {
   "cell_type": "code",
   "execution_count": 933,
   "metadata": {},
   "outputs": [],
   "source": [
    "#Keep\n",
    "def Variance(DataSet):\n",
    "    N = len(DataSet)\n",
    "    VarSum = 0\n",
    "    x = 1/(N-1)\n",
    "    for i in DataSet:\n",
    "        VarSum = VarSum + (i - statistics.mean(DataSet))**2\n",
    "    \n",
    "    return x*VarSum"
   ]
  },
  {
   "cell_type": "code",
   "execution_count": 934,
   "metadata": {},
   "outputs": [],
   "source": [
    "# Keep\n",
    "def ErrorMean(DataSet):\n",
    "    N = len(DataSet)\n",
    "    VarSum = 0\n",
    "    x = 1/(N-1)\n",
    "    for i in DataSet:\n",
    "        VarSum = VarSum + (i - statistics.mean(DataSet))**2\n",
    "    \n",
    "    Ssquare = x*VarSum\n",
    "    EM = np.sqrt(Ssquare)/np.sqrt(N)\n",
    "    \n",
    "    return EM\n",
    "    "
   ]
  },
  {
   "cell_type": "code",
   "execution_count": 935,
   "metadata": {},
   "outputs": [],
   "source": [
    "# KEEP \n",
    "def ErrorVar(DataSet):\n",
    "    N = len(DataSet)\n",
    "    VarSum = 0\n",
    "    x = 1/(N-1)\n",
    "    for i in DataSet:\n",
    "        VarSum = VarSum + (i - statistics.mean(DataSet))**2\n",
    "    \n",
    "    Ssquare = x*VarSum\n",
    "    S = np.sqrt(Ssquare)/np.sqrt(N)\n",
    "    \n",
    "    \n",
    "    EV = Ssquare*np.sqrt(2)/(np.sqrt(N-1))\n",
    "    \n",
    "    return EV"
   ]
  },
  {
   "cell_type": "code",
   "execution_count": 936,
   "metadata": {},
   "outputs": [],
   "source": [
    "# KEEP\n",
    "def Error(DataSet):\n",
    "    N = len(DataSet)\n",
    "    k=len(set(list(DataSet)))-1\n",
    "    #Sample Standard Deviation\n",
    "    Std = statistics.stdev(DataSet)  \n",
    "    Chi=ChiSquared(Stat(DataSet),Factorial,DataSet,SampleSize(DataSet),Count(DataSet))\n",
    "    #Chi Square \n",
    "    #ChiSquare = 0 \n",
    "    #for i in DataSet:\n",
    "        #ChiSquare = ChiSquare + np.square((i-statistics.mean(DataSet)/Svar))\n",
    "        #print (ChiSquare, i)\n",
    "    print(\"Total Number of Counts: \", N)\n",
    "    print(\"Mean: \", statistics.mean(DataSet))\n",
    "    print(\"Standard Deviation: \", Std)\n",
    "    print(\"Variance: \", Variance(DataSet))\n",
    "    print(\"Uncertainty of the Mean: \",ErrorMean(DataSet))\n",
    "    print(\"Uncertainty of the Variance: \",ErrorVar(DataSet))\n",
    "    print(\"Degrees of Freedom:\", len(set(list(DataSet)))-1)\n",
    "    print(\"Chi Square: \",Chi)\n",
    "    print(\"Ordinary Leasts Squares: \",Chi/k)\n",
    "    #print(\"Chi Square Distribution Value: \",ChiSquare)"
   ]
  },
  {
   "cell_type": "code",
   "execution_count": 937,
   "metadata": {},
   "outputs": [
    {
     "name": "stdout",
     "output_type": "stream",
     "text": [
      "Total Number of Counts:  250\n",
      "Mean:  2.58\n",
      "Standard Deviation:  1.5791055370648142\n",
      "Variance:  2.493574297188752\n",
      "Uncertainty of the Mean:  0.099871403258165\n",
      "Uncertainty of the Variance:  0.2234794722179518\n",
      "Degrees of Freedom: 9\n",
      "Chi Square:  455.40931991216945\n",
      "Ordinary Leasts Squares:  50.601035545796606\n"
     ]
    },
    {
     "data": {
      "image/png": "[encoded data removed]",
      "text/plain": [
       "<Figure size 432x288 with 1 Axes>"
      ]
     },
     "metadata": {
      "needs_background": "light"
     },
     "output_type": "display_data"
    }
   ],
   "source": [
    "# Data Set 1 : t = 1m, N = 120, V = 800\n",
    "\n",
    "\n",
    "Poisson(Stat(DataSet1),Factorial,DataSet1,SampleSize(DataSet1),Count(DataSet1))\n",
    "#Histogram(DataSet1,Stat(DataSet1))\n",
    "Error(DataSet1)\n",
    "\n"
   ]
  },
  {
   "cell_type": "code",
   "execution_count": 938,
   "metadata": {},
   "outputs": [
    {
     "name": "stdout",
     "output_type": "stream",
     "text": [
      "Total Number of Counts:  100\n",
      "Mean:  27.48\n",
      "Standard Deviation:  5.513033226231759\n",
      "Variance:  30.393535353535356\n",
      "Uncertainty of the Mean:  0.5513033226231758\n",
      "Uncertainty of the Variance:  4.3199490066355395\n",
      "Degrees of Freedom: 22\n",
      "Chi Square:  130.53842693216558\n",
      "Ordinary Leasts Squares:  5.9335648605529805\n"
     ]
    },
    {
     "data": {
      "image/png": "[encoded data removed]",
      "text/plain": [
       "<Figure size 432x288 with 1 Axes>"
      ]
     },
     "metadata": {
      "needs_background": "light"
     },
     "output_type": "display_data"
    }
   ],
   "source": [
    "# Data Set 2 : t = 1m, N = 100, V = 840\n",
    "\n",
    "SampleSize(DataSet2)\n",
    "Stat(DataSet2)\n",
    "Poisson(Stat(DataSet2),Factorial,DataSet2,SampleSize(DataSet2),Count(DataSet2))\n",
    "#Histogram(DataSet2,Stat(DataSet2))\n",
    "Error(DataSet2)\n"
   ]
  },
  {
   "cell_type": "code",
   "execution_count": 939,
   "metadata": {},
   "outputs": [
    {
     "name": "stdout",
     "output_type": "stream",
     "text": [
      "Total Number of Counts:  20\n",
      "Mean:  280.75\n",
      "Standard Deviation:  16.695019742741437\n",
      "Variance:  278.7236842105263\n",
      "Uncertainty of the Mean:  3.7331199030470903\n",
      "Uncertainty of the Variance:  90.42990431086692\n",
      "Degrees of Freedom: 17\n",
      "Chi Square:  13.896701274148505\n",
      "Ordinary Leasts Squares:  0.8174530161263827\n"
     ]
    },
    {
     "data": {
      "image/png": "[encoded data removed]",
      "text/plain": [
       "<Figure size 432x288 with 1 Axes>"
      ]
     },
     "metadata": {
      "needs_background": "light"
     },
     "output_type": "display_data"
    }
   ],
   "source": [
    "# Data Set 3 : t = 10.0m, N = 20, V = 840\n",
    "\n",
    "\n",
    "\n",
    "SampleSize(DataSet3)\n",
    "Stat(DataSet3)\n",
    "Poisson(Stat(DataSet3),Factorial,DataSet3,SampleSize(DataSet3),Count(DataSet3))\n",
    "#Histogram(DataSet3,Stat(DataSet3))\n",
    "Error(DataSet3)\n"
   ]
  },
  {
   "cell_type": "code",
   "execution_count": 940,
   "metadata": {},
   "outputs": [
    {
     "name": "stdout",
     "output_type": "stream",
     "text": [
      "Total Number of Counts:  250\n",
      "Mean:  1.68\n",
      "Standard Deviation:  1.1308027500133484\n",
      "Variance:  1.2787148594377487\n",
      "Uncertainty of the Mean:  0.07151824548848354\n",
      "Uncertainty of the Variance:  0.11460116597551266\n",
      "Degrees of Freedom: 6\n",
      "Chi Square:  453.1657120648359\n",
      "Ordinary Leasts Squares:  75.52761867747265\n"
     ]
    },
    {
     "data": {
      "image/png": "[encoded data removed]",
      "text/plain": [
       "<Figure size 432x288 with 1 Axes>"
      ]
     },
     "metadata": {
      "needs_background": "light"
     },
     "output_type": "display_data"
    }
   ],
   "source": [
    "# Data Set 4 : t = 0.1m, N = 250, V = 840\n",
    "\n",
    "\n",
    "\n",
    "SampleSize(DataSet4)\n",
    "Stat(DataSet4)\n",
    "Poisson(Stat(DataSet4),Factorial,DataSet4,SampleSize(DataSet4),Count(DataSet4))\n",
    "#Histogram(DataSet4,Stat(DataSet4))\n",
    "Error(DataSet4)\n"
   ]
  },
  {
   "cell_type": "code",
   "execution_count": 946,
   "metadata": {},
   "outputs": [],
   "source": [
    "from scipy.stats import norm\n",
    "def Gaussian(DataSet):\n",
    "    k=len(set(list(DataSet)))-2\n",
    "    N=len(DataSet)\n",
    "    m = statistics.mean(DataSet)\n",
    "    std=np.sqrt(m)\n",
    "    Evar=std**2*np.sqrt(2)/(np.sqrt(N-1))\n",
    "    Gset=[]\n",
    "    Cset=Count(DataSet)\n",
    "    Probability=[]\n",
    "    Eset=[]\n",
    "    Gset=[]\n",
    "    L = 1/(std*np.sqrt(2*np.pi))\n",
    "    B = 2*(np.square(std))\n",
    "    for i in DataSet:\n",
    "        G = N*L*np.exp(-((np.square(i- m))/(B)))\n",
    "        Gset.append(G)\n",
    "        \n",
    "                                \n",
    "    for i in Cset:\n",
    "        prob = (i/N)\n",
    "        Probability=np.append(Probability,prob)\n",
    "        \n",
    "    for i in Probability:\n",
    "        Estat = np.sqrt(N*i*(1-i))\n",
    "        Eset=np.append(Eset,Estat)\n",
    "    ChiSquare =[]\n",
    "    ChiSum = 0\n",
    "    for i in range(len(DataSet)):\n",
    "        ChiStat = np.square((Cset[i]- Gset[i]))/np.square(Eset[i])\n",
    "        ChiSum = ChiStat+ChiSum\n",
    "        ChiSquare=np.append(ChiSquare,ChiStat)\n",
    "    \n",
    "    a,b,c,d,e = DataSet,Gset,Cset,Probability,Eset\n",
    "\n",
    "\n",
    "    plt.plot(DataSet,Gset,label=\"Gaussian Expected\")\n",
    "    #plt.plot(DataSet,Cset,'o',label=\"Observed\")\n",
    "    #plt.errorbar(a, b, e, xerr=None, fmt='', ecolor='r', elinewidth=0.5, capsize=None, barsabove=False, lolims=0, uplims=False, xlolims=False, xuplims=False, errorevery=1, capthick=None)\n",
    "\n",
    "\n",
    "    print(\"Total Number of Counts: \", N)\n",
    "    print(\"Mean: \", statistics.mean(DataSet))\n",
    "    print(\"Standard Deviation: \", std)\n",
    "    print(\"Variance: \", std**2)\n",
    "    print(\"Uncertainty of the Mean: \",ErrorMean(DataSet))\n",
    "    print(\"Uncertainty of the Variance: \",ErrorVar(DataSet))\n",
    "    print(\"Degrees of Freedom:\", k)\n",
    "    print(\"Chi Square: \",ChiSum)\n",
    "    print(\"Ordinary Leasts Squares: \",ChiSum/k)\n",
    "                                                  \n",
    "                                                  \n",
    "    "
   ]
  },
  {
   "cell_type": "code",
   "execution_count": 947,
   "metadata": {},
   "outputs": [
    {
     "name": "stdout",
     "output_type": "stream",
     "text": [
      "Total Number of Counts:  250\n",
      "Mean:  2.58\n",
      "Standard Deviation:  1.606237840420901\n",
      "Variance:  2.58\n",
      "Uncertainty of the Mean:  0.099871403258165\n",
      "Uncertainty of the Variance:  0.2234794722179518\n",
      "Degrees of Freedom: 8\n",
      "Chi Square:  967.271886786631\n",
      "Ordinary Leasts Squares:  120.90898584832887\n"
     ]
    },
    {
     "data": {
      "image/png": "[encoded data removed]",
      "text/plain": [
       "<Figure size 432x288 with 1 Axes>"
      ]
     },
     "metadata": {
      "needs_background": "light"
     },
     "output_type": "display_data"
    }
   ],
   "source": [
    "Gaussian(DataSet1)"
   ]
  },
  {
   "cell_type": "code",
   "execution_count": 948,
   "metadata": {},
   "outputs": [
    {
     "name": "stdout",
     "output_type": "stream",
     "text": [
      "Total Number of Counts:  100\n",
      "Mean:  27.48\n",
      "Standard Deviation:  5.242136968832463\n",
      "Variance:  27.48\n",
      "Uncertainty of the Mean:  0.5513033226231758\n",
      "Uncertainty of the Variance:  4.3199490066355395\n",
      "Degrees of Freedom: 21\n",
      "Chi Square:  133.8856714557672\n",
      "Ordinary Leasts Squares:  6.375508164560343\n"
     ]
    },
    {
     "data": {
      "image/png": "[encoded data removed]",
      "text/plain": [
       "<Figure size 432x288 with 1 Axes>"
      ]
     },
     "metadata": {
      "needs_background": "light"
     },
     "output_type": "display_data"
    }
   ],
   "source": [
    "Gaussian(DataSet2)"
   ]
  },
  {
   "cell_type": "code",
   "execution_count": 949,
   "metadata": {},
   "outputs": [
    {
     "name": "stdout",
     "output_type": "stream",
     "text": [
      "Total Number of Counts:  20\n",
      "Mean:  280.75\n",
      "Standard Deviation:  16.75559608011604\n",
      "Variance:  280.74999999999994\n",
      "Uncertainty of the Mean:  3.7331199030470903\n",
      "Uncertainty of the Variance:  90.42990431086692\n",
      "Degrees of Freedom: 16\n",
      "Chi Square:  13.885590082174172\n",
      "Ordinary Leasts Squares:  0.8678493801358858\n"
     ]
    },
    {
     "data": {
      "image/png": "[encoded data removed]",
      "text/plain": [
       "<Figure size 432x288 with 1 Axes>"
      ]
     },
     "metadata": {
      "needs_background": "light"
     },
     "output_type": "display_data"
    }
   ],
   "source": [
    "Gaussian(DataSet3)"
   ]
  },
  {
   "cell_type": "code",
   "execution_count": 950,
   "metadata": {},
   "outputs": [
    {
     "name": "stdout",
     "output_type": "stream",
     "text": [
      "Total Number of Counts:  250\n",
      "Mean:  1.68\n",
      "Standard Deviation:  1.296148139681572\n",
      "Variance:  1.6799999999999997\n",
      "Uncertainty of the Mean:  0.07151824548848354\n",
      "Uncertainty of the Variance:  0.11460116597551266\n",
      "Degrees of Freedom: 5\n",
      "Chi Square:  454.25788646258087\n",
      "Ordinary Leasts Squares:  90.85157729251617\n"
     ]
    },
    {
     "data": {
      "image/png": "[encoded data removed]",
      "text/plain": [
       "<Figure size 432x288 with 1 Axes>"
      ]
     },
     "metadata": {
      "needs_background": "light"
     },
     "output_type": "display_data"
    }
   ],
   "source": [
    "\n",
    "Gaussian(DataSet4)"
   ]
  },
  {
   "cell_type": "code",
   "execution_count": null,
   "metadata": {},
   "outputs": [],
   "source": []
  }
 ],
 "metadata": {
  "kernelspec": {
   "display_name": "Python 3",
   "language": "python",
   "name": "python3"
  },
  "language_info": {
   "codemirror_mode": {
    "name": "ipython",
    "version": 3
   },
   "file_extension": ".py",
   "mimetype": "text/x-python",
   "name": "python",
   "nbconvert_exporter": "python",
   "pygments_lexer": "ipython3",
   "version": "3.7.3"
  }
 },
 "nbformat": 4,
 "nbformat_minor": 2
}
