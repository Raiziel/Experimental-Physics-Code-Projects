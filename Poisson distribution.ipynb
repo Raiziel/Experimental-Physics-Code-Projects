{
 "cells": [
  {
   "cell_type": "code",
   "execution_count": 256,
   "metadata": {},
   "outputs": [],
   "source": [
    "\n",
    "\n",
    "#for i in rset:\n",
    "        \n",
    "      #  Pset2z = N*np.array(Pset2)\n",
    "       # print (\"P(r,λ) for r value of\", i, \"is\",Pset2z[i])\n",
    "#plt.plot(rset,Pset2z)\n",
    "#plt.title(\"Distribution of Probability for Each R Count\")\n",
    "#plt.xlabel(\"r \")\n",
    "#plt.ylabel(\"P(r,λ)\")"
   ]
  },
  {
   "cell_type": "code",
   "execution_count": 257,
   "metadata": {},
   "outputs": [],
   "source": [
    "import statistics \n",
    "import numpy\n",
    "import math\n",
    "import numpy as np\n",
    "from numpy import log as ln\n",
    "import matplotlib.mlab as mlab\n",
    "import matplotlib.pyplot as plt\n",
    "from scipy.optimize import minimize\n",
    "from scipy.integrate import quad \n",
    "from scipy.stats import chisquare\n",
    "from decimal import Decimal\n",
    "\n",
    "# 0.1m no shield\n",
    "DataSet1 = [1,2,3,0,4,2,1,5,5,3,2,4,3,4,5,5,1,2,2,3,1,2,1,5,2,4,1,3,3,3,3,3,2,3,3,1,1\n",
    "          ,1,2,3,1,7,2,3,3,2,2,1,2,2,2,3,1,1,0,3,3,0,3,7,3,4,2,2,3,4,6,2,3,4,3,1,6\n",
    "          ,2,2,2,2,2,3,3,7,5,3,7,4,0,3,1,4,3,4,4,3,2,1,1,4,3,2,1,1,2\n",
    "          ,3,2,2,1,1,2,1,7,2,3,3,3,1,2,1,3,2,5,2,1,4,5,1,1,1,1,4,1,1,2,2,2,5\n",
    "          ,2,2,2,1,2,0,5,3,3,5,1,4,3,2,0,3,1,4,2,3,3,3,5,2,2,7,4,1,3,3,2,2\n",
    "          ,3,2,2,0,2,0,5,2,3,4,2,3,3,2,2,3,2,4,3,8,3,2,2,0,2,3,4,3,6,1,1,2,6,4\n",
    "          ,2,2,1,6,3,2,1,0,2,1,2,2,1,3,2,1,3,2,3,3,2,3,3,1,2,1,4,1,1,0,2,1,2,3,3,3,3,5,1,1,5,1,1,2,4,1,2,4,9]\n",
    "# 1m\n",
    "DataSet2 = [31,28,34,25,38,37,37,31,38,30,22,36,25,28,33,35,26,24,34,33,26,27,21,25,29\n",
    "           ,23,22,36,19,27,35,37,20,20,34,20,31,30,21,27,29,28,30,35,33,25,15,31,24,33\n",
    "           ,19,28,30,24,25,35,27,25,33,38,16,20,25,21,34,26,25,26,25,21,20,25,34,28,26\n",
    "           ,26,34,20,25,26,24,29,19,27,34,24,21,32,28,25,29,30,28,30,24,18,28,23,30,20]\n",
    "           \n",
    "# 10m\n",
    "DataSet3 = [285,298,260,273,285,262,276,281,286,290,273,303,257,267,275,295,302,246,300,301]\n",
    "# 0.1m w/ Shield\n",
    "DataSet4 = [2,0,1,0,2,2,4,1,3,0,2,0,2,2,2,1,1,1,2,0,1,1,1,2,2\n",
    "           ,0,2,2,2,3,2,3,2,2,2,4,2,3,1,2,4,1,2,2,1,4,2,1,1,4\n",
    "           ,2,1,1,0,4,1,1,3,3,3,1,0,1,1,1,1,3,2,3,2,1,1,2,3,2\n",
    "           ,3,2,1,5,0,3,2,1,2,2,2,3,6,2,3,1,2,2,2,2,2,2,1,0,3\n",
    "           ,3,2,1,3,0,2,1,0,1,1,0,2,0,2,2,2,3,1,1,2,0,0,5,1,1\n",
    "           ,2,1,3,2,1,3,1,2,2,2,4,0,2,0,1,0,1,3,1,1,2,2,1,1,3\n",
    "           ,3,0,3,1,1,2,3,1,3,0,2,0,2,0,1,1,1,5,1,3,2,0,0,3,1\n",
    "           ,1,3,0,1,2,3,2,1,3,1,0,3,2,2,1,3,1,0,1,3,2,3,0,1,1\n",
    "           ,4,2,2,2,1,2,1,2,3,1,0,1,1,3,1,2,0,1,2,2,0,1,0,1,1\n",
    "           ,3,2,1,1,1,3,3,2,0,1,2,3,1,3,2,2,1,1,1,1,1,1,2,4,0]\n",
    "                                                                                                        \n",
    "\n",
    "\n",
    "DataSet1.sort()\n",
    "DataSet2.sort()\n",
    "DataSet3.sort()\n",
    "DataSet4.sort()"
   ]
  },
  {
   "cell_type": "code",
   "execution_count": 258,
   "metadata": {},
   "outputs": [],
   "source": [
    "def SampleSize(Set):\n",
    "    N = len(Set)\n",
    "    return N\n",
    "    "
   ]
  },
  {
   "cell_type": "code",
   "execution_count": 259,
   "metadata": {},
   "outputs": [],
   "source": [
    "# function to calculate factorial\n",
    "def Factorial(N):\n",
    "    \n",
    "    factorial = 1\n",
    "    if int(N) >= 0:\n",
    "        for i in range (1,int(N)+1):\n",
    "                factorial = factorial * i\n",
    "        return factorial"
   ]
  },
  {
   "cell_type": "code",
   "execution_count": 260,
   "metadata": {},
   "outputs": [],
   "source": [
    "# function to plot histogram\n",
    "def Histogram(Set,Stat):\n",
    "    \n",
    "    mean,STD,variance,uncertainty=Stat\n",
    "    N = SampleSize(Set)\n",
    "    \n",
    "    num_bins = N\n",
    "    N, bins, patches = plt.hist(Set, num_bins, facecolor='blue',edgecolor='black',linewidth='1.2', alpha=0.5)\n",
    "    plt.title(\"Rate of occurence of counterate\")\n",
    "    plt.xlabel(\"count\")\n",
    "    plt.ylabel(\"Frequency of Occurence\")\n",
    "    plt.subplots_adjust(left=0.15)\n",
    "    plt.show()\n",
    "    \n",
    "\n"
   ]
  },
  {
   "cell_type": "code",
   "execution_count": 261,
   "metadata": {},
   "outputs": [],
   "source": [
    "def Stat(Set):\n",
    "    N = SampleSize(Set)\n",
    "    mean = (statistics.mean(Set))\n",
    "    STD = (statistics.stdev(Set,xbar=None))\n",
    "    variance = (statistics.variance(Set))\n",
    "    Uncertainty = (STD/(math.sqrt(N)))\n",
    "    \n",
    "    return mean,STD,variance,Uncertainty"
   ]
  },
  {
   "cell_type": "code",
   "execution_count": 262,
   "metadata": {},
   "outputs": [],
   "source": [
    "# function to model the occurence of counts of particles hitting the detector\n",
    "def Poisson(Stat,Factorial,Set,SampleSize,Count):\n",
    "    Pset=[]\n",
    "    Eset=[]\n",
    "    Probability=[]\n",
    "    Cset = Count\n",
    "\n",
    "    mean,STD,variance,uncertainty=Stat\n",
    "    N=SampleSize\n",
    "    \n",
    "    for i in Set:\n",
    "        if(i>100):\n",
    "            P = (((np.exp(i-mean))*((mean/i)**i))/ (math.sqrt(2*np.pi*i)))*N\n",
    "            #print (\"P for r value of\", i, \"is\", P)\n",
    "            Pset.append(P)\n",
    "            \n",
    "        else:\n",
    "            P = (((mean**i)*(math.exp(-mean)/(Factorial(i)))))*N\n",
    "            #print (\"P for r value of\", i, \"is\", P)\n",
    "            Pset.append(P)\n",
    "\n",
    "    Pstd = statistics.stdev(Pset)\n",
    "    PUncertain = (Pstd/(math.sqrt(N)))\n",
    "    \n",
    "    for i in Cset:\n",
    "        prob = (i/N)\n",
    "        Probability=np.append(Probability,prob)\n",
    "    for i in Probability:\n",
    "        Estat = np.sqrt(N*i*(1-i))\n",
    "        Eset=np.append(Eset,Estat)\n",
    "  \n",
    "    \n",
    "        \n",
    "    \n",
    "    \n",
    "    a,b,c,d,e = Set,Pset,Cset,Probability,Eset\n",
    "    #PErrorBar = ((Pstd + PUncertain) + (Pstd-PUncertain))/2\n",
    "    #xerr,yerr = statistics.stdev(Set),PErrorBar\n",
    "    plt.errorbar(a, b, e, xerr=None, fmt='', ecolor='g', elinewidth=0.5, capsize=None, barsabove=False, lolims=0, uplims=False, xlolims=False, xuplims=False, errorevery=1, capthick=None)\n",
    "    plt.plot(Set,Pset)\n",
    "    plt.plot(Set,Cset)\n",
    "    \n",
    "    #plt.plot(Set,Cset,'x')\n",
    "    plt.xlabel(\"r \")\n",
    "    plt.ylabel(\"Frequency of r occuring\")\n",
    "    \n"
   ]
  },
  {
   "cell_type": "code",
   "execution_count": 263,
   "metadata": {},
   "outputs": [],
   "source": [
    "def Count(Set):\n",
    "    count=[]\n",
    "    \n",
    "    for i in Set:\n",
    "        Z=Set.count(i)\n",
    "        #print(\"Count R of \", i, \"is\", Z)\n",
    "        count.append(Z)\n",
    "    return count\n"
   ]
  },
  {
   "cell_type": "code",
   "execution_count": 264,
   "metadata": {},
   "outputs": [],
   "source": [
    "#Keep\n",
    "def Variance(DataSet):\n",
    "    N = len(DataSet)\n",
    "    VarSum = 0\n",
    "    x = 1/(N-1)\n",
    "    for i in DataSet:\n",
    "        VarSum = VarSum + (i - statistics.mean(DataSet))**2\n",
    "    \n",
    "    return x*VarSum"
   ]
  },
  {
   "cell_type": "code",
   "execution_count": 265,
   "metadata": {},
   "outputs": [],
   "source": [
    "# Keep\n",
    "def ErrorMean(DataSet):\n",
    "    N = len(DataSet)\n",
    "    VarSum = 0\n",
    "    x = 1/(N-1)\n",
    "    for i in DataSet:\n",
    "        VarSum = VarSum + (i - statistics.mean(DataSet))**2\n",
    "    \n",
    "    Ssquare = x*VarSum\n",
    "    EM = np.sqrt(Ssquare)/np.sqrt(N)\n",
    "    \n",
    "    return EM\n",
    "    "
   ]
  },
  {
   "cell_type": "code",
   "execution_count": 266,
   "metadata": {},
   "outputs": [],
   "source": [
    "# KEEP \n",
    "def ErrorVar(DataSet):\n",
    "    N = len(DataSet)\n",
    "    VarSum = 0\n",
    "    x = 1/(N-1)\n",
    "    for i in DataSet:\n",
    "        VarSum = VarSum + (i - statistics.mean(DataSet))**2\n",
    "    \n",
    "    Ssquare = x*VarSum\n",
    "    S = np.sqrt(Ssquare)/np.sqrt(N)\n",
    "    \n",
    "    \n",
    "    EV = Ssquare*np.sqrt(2)/(np.sqrt(N-1))\n",
    "    \n",
    "    return EV"
   ]
  },
  {
   "cell_type": "code",
   "execution_count": 267,
   "metadata": {},
   "outputs": [],
   "source": [
    "# KEEP\n",
    "def Error(DataSet):\n",
    "    N = len(DataSet)\n",
    "    #Sample Standard Deviation\n",
    "    Std = statistics.stdev(DataSet)  \n",
    "    #Chi Square \n",
    "    #ChiSquare = 0 \n",
    "    #for i in DataSet:\n",
    "        #ChiSquare = ChiSquare + np.square((i-statistics.mean(DataSet)/Svar))\n",
    "        #print (ChiSquare, i)\n",
    "    print(\"Total Number of Counts: \", N)\n",
    "    print(\"Mean: \", statistics.mean(DataSet))\n",
    "    print(\"Standard Deviation: \", Std)\n",
    "    print(\"Variance: \", Variance(DataSet))\n",
    "    print(\"Uncertainty of the Mean: \",ErrorMean(DataSet))\n",
    "    print(\"Uncertainty of the Variance: \",ErrorVar(DataSet))\n",
    "    #print(\"Chi Square Distribution Value: \",ChiSquare)"
   ]
  },
  {
   "cell_type": "code",
   "execution_count": 268,
   "metadata": {},
   "outputs": [
    {
     "data": {
      "image/png": "[encoded data removed]",
      "text/plain": [
       "<Figure size 432x288 with 1 Axes>"
      ]
     },
     "metadata": {
      "needs_background": "light"
     },
     "output_type": "display_data"
    },
    {
     "name": "stdout",
     "output_type": "stream",
     "text": [
      "Total Number of Counts:  250\n",
      "Mean:  2.58\n",
      "Standard Deviation:  1.5791055370648142\n",
      "Variance:  2.493574297188752\n",
      "Uncertainty of the Mean:  0.099871403258165\n",
      "Uncertainty of the Variance:  0.2234794722179518\n"
     ]
    }
   ],
   "source": [
    "# Data Set 1 : t = 1m, N = 120, V = 800\n",
    "\n",
    "SampleSize(DataSet1)\n",
    "Stat(DataSet1)\n",
    "Poisson(Stat(DataSet1),Factorial,DataSet1,SampleSize(DataSet1),Count(DataSet1))\n",
    "Histogram(DataSet1,Stat(DataSet1))\n",
    "Error(DataSet1)\n",
    "\n"
   ]
  },
  {
   "cell_type": "code",
   "execution_count": 269,
   "metadata": {},
   "outputs": [
    {
     "data": {
      "image/png": "[encoded data removed]",
      "text/plain": [
       "<Figure size 432x288 with 1 Axes>"
      ]
     },
     "metadata": {
      "needs_background": "light"
     },
     "output_type": "display_data"
    },
    {
     "name": "stdout",
     "output_type": "stream",
     "text": [
      "Total Number of Counts:  100\n",
      "Mean:  27.48\n",
      "Standard Deviation:  5.513033226231759\n",
      "Variance:  30.393535353535356\n",
      "Uncertainty of the Mean:  0.5513033226231758\n",
      "Uncertainty of the Variance:  4.3199490066355395\n"
     ]
    }
   ],
   "source": [
    "# Data Set 2 : t = 1m, N = 100, V = 840\n",
    "\n",
    "SampleSize(DataSet2)\n",
    "Stat(DataSet2)\n",
    "Poisson(Stat(DataSet2),Factorial,DataSet2,SampleSize(DataSet2),Count(DataSet2))\n",
    "Histogram(DataSet2,Stat(DataSet2))\n",
    "Error(DataSet2)\n"
   ]
  },
  {
   "cell_type": "code",
   "execution_count": 270,
   "metadata": {},
   "outputs": [
    {
     "data": {
      "image/png": "[encoded data removed]",
      "text/plain": [
       "<Figure size 432x288 with 1 Axes>"
      ]
     },
     "metadata": {
      "needs_background": "light"
     },
     "output_type": "display_data"
    },
    {
     "name": "stdout",
     "output_type": "stream",
     "text": [
      "Total Number of Counts:  20\n",
      "Mean:  280.75\n",
      "Standard Deviation:  16.695019742741437\n",
      "Variance:  278.7236842105263\n",
      "Uncertainty of the Mean:  3.7331199030470903\n",
      "Uncertainty of the Variance:  90.42990431086692\n"
     ]
    }
   ],
   "source": [
    "# Data Set 3 : t = 10.0m, N = 20, V = 840\n",
    "\n",
    "\n",
    "\n",
    "SampleSize(DataSet3)\n",
    "Stat(DataSet3)\n",
    "Poisson(Stat(DataSet3),Factorial,DataSet3,SampleSize(DataSet3),Count(DataSet3))\n",
    "Histogram(DataSet3,Stat(DataSet3))\n",
    "Error(DataSet3)\n"
   ]
  },
  {
   "cell_type": "code",
   "execution_count": 271,
   "metadata": {},
   "outputs": [
    {
     "data": {
      "image/png": "[encoded data removed]",
      "text/plain": [
       "<Figure size 432x288 with 1 Axes>"
      ]
     },
     "metadata": {
      "needs_background": "light"
     },
     "output_type": "display_data"
    },
    {
     "name": "stdout",
     "output_type": "stream",
     "text": [
      "Total Number of Counts:  250\n",
      "Mean:  1.68\n",
      "Standard Deviation:  1.1308027500133484\n",
      "Variance:  1.2787148594377487\n",
      "Uncertainty of the Mean:  0.07151824548848354\n",
      "Uncertainty of the Variance:  0.11460116597551266\n"
     ]
    }
   ],
   "source": [
    "# Data Set 4 : t = 0.1m, N = 250, V = 840\n",
    "\n",
    "\n",
    "\n",
    "SampleSize(DataSet4)\n",
    "Stat(DataSet4)\n",
    "Poisson(Stat(DataSet4),Factorial,DataSet4,SampleSize(DataSet4),Count(DataSet4))\n",
    "Histogram(DataSet4,Stat(DataSet4))\n",
    "Error(DataSet4)\n"
   ]
  },
  {
   "cell_type": "code",
   "execution_count": null,
   "metadata": {},
   "outputs": [],
   "source": []
  },
  {
   "cell_type": "code",
   "execution_count": 272,
   "metadata": {},
   "outputs": [],
   "source": [
    "def ChiSquare(Stat,Factorial,Set,SampleSize,Count):\n",
    "    Pset=[]\n",
    "    Eset=[]\n",
    "    Probability=[]\n",
    "    Cset = Count\n",
    "\n",
    "    mean,STD,variance,uncertainty=Stat\n",
    "    N=SampleSize\n",
    "    \n",
    "    for i in Set:\n",
    "        if(i>100):\n",
    "            P = (((np.exp(i-mean))*((mean/i)**i))/ (math.sqrt(2*np.pi*i)))*N\n",
    "            #print (\"P for r value of\", i, \"is\", P)\n",
    "            Pset.append(P)\n",
    "            \n",
    "        else:\n",
    "            P = (((mean**i)*(math.exp(-mean)/(Factorial(i)))))*N\n",
    "            #print (\"P for r value of\", i, \"is\", P)\n",
    "            Pset.append(P)\n",
    "\n",
    "    Pstd = statistics.stdev(Pset)\n",
    "    PUncertain = (Pstd/(math.sqrt(N)))\n",
    "    \n",
    "    for i in Cset:\n",
    "        prob = (i/N)\n",
    "        Probability=np.append(Probability,prob)\n",
    "    for i in Probability:\n",
    "        Estat = np.sqrt(N*i*(1-i))\n",
    "        Eset=np.append(Eset,Estat)\n",
    "    ChiSquare =[]\n",
    "    ChiSum = 0\n",
    "    for i in range(len(Set)):\n",
    "        ChiStat = np.square((Set[i]- Pset[i]))/(Eset[i])\n",
    "        ChiSquare=np.append(ChiSquare,ChiStat)\n",
    "    print(ChiSquare)"
   ]
  },
  {
   "cell_type": "code",
   "execution_count": 273,
   "metadata": {},
   "outputs": [
    {
     "name": "stdout",
     "output_type": "stream",
     "text": [
      "[110.66115583 110.66115583 110.66115583 110.66115583 110.66115583\n",
      " 110.66115583 110.66115583 110.66115583 110.66115583 110.66115583\n",
      " 110.66115583 357.1407352  357.1407352  357.1407352  357.1407352\n",
      " 357.1407352  357.1407352  357.1407352  357.1407352  357.1407352\n",
      " 357.1407352  357.1407352  357.1407352  357.1407352  357.1407352\n",
      " 357.1407352  357.1407352  357.1407352  357.1407352  357.1407352\n",
      " 357.1407352  357.1407352  357.1407352  357.1407352  357.1407352\n",
      " 357.1407352  357.1407352  357.1407352  357.1407352  357.1407352\n",
      " 357.1407352  357.1407352  357.1407352  357.1407352  357.1407352\n",
      " 357.1407352  357.1407352  357.1407352  357.1407352  357.1407352\n",
      " 357.1407352  357.1407352  357.1407352  357.1407352  357.1407352\n",
      " 357.1407352  357.1407352  357.1407352  357.1407352  357.1407352\n",
      " 357.1407352  357.1407352  357.1407352  520.51496723 520.51496723\n",
      " 520.51496723 520.51496723 520.51496723 520.51496723 520.51496723\n",
      " 520.51496723 520.51496723 520.51496723 520.51496723 520.51496723\n",
      " 520.51496723 520.51496723 520.51496723 520.51496723 520.51496723\n",
      " 520.51496723 520.51496723 520.51496723 520.51496723 520.51496723\n",
      " 520.51496723 520.51496723 520.51496723 520.51496723 520.51496723\n",
      " 520.51496723 520.51496723 520.51496723 520.51496723 520.51496723\n",
      " 520.51496723 520.51496723 520.51496723 520.51496723 520.51496723\n",
      " 520.51496723 520.51496723 520.51496723 520.51496723 520.51496723\n",
      " 520.51496723 520.51496723 520.51496723 520.51496723 520.51496723\n",
      " 520.51496723 520.51496723 520.51496723 520.51496723 520.51496723\n",
      " 520.51496723 520.51496723 520.51496723 520.51496723 520.51496723\n",
      " 520.51496723 520.51496723 520.51496723 520.51496723 520.51496723\n",
      " 520.51496723 520.51496723 520.51496723 520.51496723 520.51496723\n",
      " 520.51496723 520.51496723 520.51496723 520.51496723 520.51496723\n",
      " 382.1873262  382.1873262  382.1873262  382.1873262  382.1873262\n",
      " 382.1873262  382.1873262  382.1873262  382.1873262  382.1873262\n",
      " 382.1873262  382.1873262  382.1873262  382.1873262  382.1873262\n",
      " 382.1873262  382.1873262  382.1873262  382.1873262  382.1873262\n",
      " 382.1873262  382.1873262  382.1873262  382.1873262  382.1873262\n",
      " 382.1873262  382.1873262  382.1873262  382.1873262  382.1873262\n",
      " 382.1873262  382.1873262  382.1873262  382.1873262  382.1873262\n",
      " 382.1873262  382.1873262  382.1873262  382.1873262  382.1873262\n",
      " 382.1873262  382.1873262  382.1873262  382.1873262  382.1873262\n",
      " 382.1873262  382.1873262  382.1873262  382.1873262  382.1873262\n",
      " 382.1873262  382.1873262  382.1873262  382.1873262  382.1873262\n",
      " 382.1873262  382.1873262  382.1873262  382.1873262  382.1873262\n",
      " 382.1873262  382.1873262  382.1873262  205.95165258 205.95165258\n",
      " 205.95165258 205.95165258 205.95165258 205.95165258 205.95165258\n",
      " 205.95165258 205.95165258 205.95165258 205.95165258 205.95165258\n",
      " 205.95165258 205.95165258 205.95165258 205.95165258 205.95165258\n",
      " 205.95165258 205.95165258 205.95165258 205.95165258 205.95165258\n",
      " 205.95165258 205.95165258  45.32478156  45.32478156  45.32478156\n",
      "  45.32478156  45.32478156  45.32478156  45.32478156  45.32478156\n",
      "  45.32478156  45.32478156  45.32478156  45.32478156  45.32478156\n",
      "  45.32478156  45.32478156   1.39890596   1.39890596   1.39890596\n",
      "   1.39890596   1.39890596   7.08268478   7.08268478   7.08268478\n",
      "   7.08268478   7.08268478   7.08268478  50.19356862  76.46364839]\n"
     ]
    }
   ],
   "source": [
    "ChiSquare(Stat(DataSet1),Factorial,DataSet1,SampleSize(DataSet1),Count(DataSet1))"
   ]
  },
  {
   "cell_type": "code",
   "execution_count": 232,
   "metadata": {},
   "outputs": [
    {
     "name": "stdout",
     "output_type": "stream",
     "text": [
      "2.493574297188752\n",
      "30.393535353535356\n",
      "278.7236842105263\n",
      "1.2787148594377487\n"
     ]
    }
   ],
   "source": [
    "print(Variance(DataSet1))\n",
    "print(Variance(DataSet2))\n",
    "print(Variance(DataSet3))\n",
    "print(Variance(DataSet4))"
   ]
  },
  {
   "cell_type": "code",
   "execution_count": 253,
   "metadata": {},
   "outputs": [
    {
     "name": "stdout",
     "output_type": "stream",
     "text": [
      "[110.66115583 110.66115583 110.66115583 110.66115583 110.66115583\n",
      " 110.66115583 110.66115583 110.66115583 110.66115583 110.66115583\n",
      " 110.66115583 357.1407352  357.1407352  357.1407352  357.1407352\n",
      " 357.1407352  357.1407352  357.1407352  357.1407352  357.1407352\n",
      " 357.1407352  357.1407352  357.1407352  357.1407352  357.1407352\n",
      " 357.1407352  357.1407352  357.1407352  357.1407352  357.1407352\n",
      " 357.1407352  357.1407352  357.1407352  357.1407352  357.1407352\n",
      " 357.1407352  357.1407352  357.1407352  357.1407352  357.1407352\n",
      " 357.1407352  357.1407352  357.1407352  357.1407352  357.1407352\n",
      " 357.1407352  357.1407352  357.1407352  357.1407352  357.1407352\n",
      " 357.1407352  357.1407352  357.1407352  357.1407352  357.1407352\n",
      " 357.1407352  357.1407352  357.1407352  357.1407352  357.1407352\n",
      " 357.1407352  357.1407352  357.1407352  520.51496723 520.51496723\n",
      " 520.51496723 520.51496723 520.51496723 520.51496723 520.51496723\n",
      " 520.51496723 520.51496723 520.51496723 520.51496723 520.51496723\n",
      " 520.51496723 520.51496723 520.51496723 520.51496723 520.51496723\n",
      " 520.51496723 520.51496723 520.51496723 520.51496723 520.51496723\n",
      " 520.51496723 520.51496723 520.51496723 520.51496723 520.51496723\n",
      " 520.51496723 520.51496723 520.51496723 520.51496723 520.51496723\n",
      " 520.51496723 520.51496723 520.51496723 520.51496723 520.51496723\n",
      " 520.51496723 520.51496723 520.51496723 520.51496723 520.51496723\n",
      " 520.51496723 520.51496723 520.51496723 520.51496723 520.51496723\n",
      " 520.51496723 520.51496723 520.51496723 520.51496723 520.51496723\n",
      " 520.51496723 520.51496723 520.51496723 520.51496723 520.51496723\n",
      " 520.51496723 520.51496723 520.51496723 520.51496723 520.51496723\n",
      " 520.51496723 520.51496723 520.51496723 520.51496723 520.51496723\n",
      " 520.51496723 520.51496723 520.51496723 520.51496723 520.51496723\n",
      " 382.1873262  382.1873262  382.1873262  382.1873262  382.1873262\n",
      " 382.1873262  382.1873262  382.1873262  382.1873262  382.1873262\n",
      " 382.1873262  382.1873262  382.1873262  382.1873262  382.1873262\n",
      " 382.1873262  382.1873262  382.1873262  382.1873262  382.1873262\n",
      " 382.1873262  382.1873262  382.1873262  382.1873262  382.1873262\n",
      " 382.1873262  382.1873262  382.1873262  382.1873262  382.1873262\n",
      " 382.1873262  382.1873262  382.1873262  382.1873262  382.1873262\n",
      " 382.1873262  382.1873262  382.1873262  382.1873262  382.1873262\n",
      " 382.1873262  382.1873262  382.1873262  382.1873262  382.1873262\n",
      " 382.1873262  382.1873262  382.1873262  382.1873262  382.1873262\n",
      " 382.1873262  382.1873262  382.1873262  382.1873262  382.1873262\n",
      " 382.1873262  382.1873262  382.1873262  382.1873262  382.1873262\n",
      " 382.1873262  382.1873262  382.1873262  205.95165258 205.95165258\n",
      " 205.95165258 205.95165258 205.95165258 205.95165258 205.95165258\n",
      " 205.95165258 205.95165258 205.95165258 205.95165258 205.95165258\n",
      " 205.95165258 205.95165258 205.95165258 205.95165258 205.95165258\n",
      " 205.95165258 205.95165258 205.95165258 205.95165258 205.95165258\n",
      " 205.95165258 205.95165258  45.32478156  45.32478156  45.32478156\n",
      "  45.32478156  45.32478156  45.32478156  45.32478156  45.32478156\n",
      "  45.32478156  45.32478156  45.32478156  45.32478156  45.32478156\n",
      "  45.32478156  45.32478156   1.39890596   1.39890596   1.39890596\n",
      "   1.39890596   1.39890596   7.08268478   7.08268478   7.08268478\n",
      "   7.08268478   7.08268478   7.08268478  50.19356862  76.46364839]\n",
      "[215.93211243 238.73231442 275.26240441 167.46666308 167.46666308\n",
      " 167.46666308 114.8366875  114.8366875  114.8366875  114.8366875\n",
      " 114.8366875  114.8366875  114.8366875  136.17980301 136.17980301\n",
      " 136.17980301 136.17980301 136.17980301 213.48644705 213.48644705\n",
      " 215.52186095 215.52186095 129.75307794 129.75307794 129.75307794\n",
      " 129.75307794 129.75307794 129.75307794  98.76102718  98.76102718\n",
      "  98.76102718  98.76102718  98.76102718  98.76102718  98.76102718\n",
      "  98.76102718  98.76102718  98.76102718  98.76102718  98.76102718\n",
      " 134.30298885 134.30298885 134.30298885 134.30298885 134.30298885\n",
      " 134.30298885 134.30298885 172.29825446 172.29825446 172.29825446\n",
      " 172.29825446 172.29825446 155.20506204 155.20506204 155.20506204\n",
      " 155.20506204 155.20506204 155.20506204 155.20506204 155.20506204\n",
      " 245.0145114  245.0145114  245.0145114  245.0145114  216.57720909\n",
      " 216.57720909 216.57720909 216.57720909 216.57720909 216.57720909\n",
      " 216.57720909 325.21255287 325.21255287 325.21255287 325.21255287\n",
      " 735.79373454 382.80179072 382.80179072 382.80179072 382.80179072\n",
      " 382.80179072 368.75273268 368.75273268 368.75273268 368.75273268\n",
      " 368.75273268 368.75273268 368.75273268 535.31316177 535.31316177\n",
      " 535.31316177 535.31316177 826.02145116 826.02145116 739.5747615\n",
      " 739.5747615  739.5747615  799.45426653 799.45426653 799.45426653]\n",
      "[62060.91522701 67671.56209548 69235.94764378 70287.66549916\n",
      " 72951.12401204 55374.36565239 55374.36565239 77333.94999238\n",
      " 77893.92158495 80738.09073629 60347.22528527 60347.22528527\n",
      " 83657.43579366 86045.14906946 89088.83608085 90942.93136958\n",
      " 92189.38426592 92815.53293261 93443.55462096 94073.39995126]\n",
      "[3.95701148e+02 3.95701148e+02 3.95701148e+02 3.95701148e+02\n",
      " 3.95701148e+02 3.95701148e+02 3.95701148e+02 3.95701148e+02\n",
      " 3.95701148e+02 3.95701148e+02 3.95701148e+02 3.95701148e+02\n",
      " 3.95701148e+02 3.95701148e+02 3.95701148e+02 3.95701148e+02\n",
      " 3.95701148e+02 3.95701148e+02 3.95701148e+02 3.95701148e+02\n",
      " 3.95701148e+02 3.95701148e+02 3.95701148e+02 3.95701148e+02\n",
      " 3.95701148e+02 3.95701148e+02 3.95701148e+02 3.95701148e+02\n",
      " 3.95701148e+02 3.95701148e+02 3.95701148e+02 3.95701148e+02\n",
      " 3.95701148e+02 3.95701148e+02 3.95701148e+02 8.01999350e+02\n",
      " 8.01999350e+02 8.01999350e+02 8.01999350e+02 8.01999350e+02\n",
      " 8.01999350e+02 8.01999350e+02 8.01999350e+02 8.01999350e+02\n",
      " 8.01999350e+02 8.01999350e+02 8.01999350e+02 8.01999350e+02\n",
      " 8.01999350e+02 8.01999350e+02 8.01999350e+02 8.01999350e+02\n",
      " 8.01999350e+02 8.01999350e+02 8.01999350e+02 8.01999350e+02\n",
      " 8.01999350e+02 8.01999350e+02 8.01999350e+02 8.01999350e+02\n",
      " 8.01999350e+02 8.01999350e+02 8.01999350e+02 8.01999350e+02\n",
      " 8.01999350e+02 8.01999350e+02 8.01999350e+02 8.01999350e+02\n",
      " 8.01999350e+02 8.01999350e+02 8.01999350e+02 8.01999350e+02\n",
      " 8.01999350e+02 8.01999350e+02 8.01999350e+02 8.01999350e+02\n",
      " 8.01999350e+02 8.01999350e+02 8.01999350e+02 8.01999350e+02\n",
      " 8.01999350e+02 8.01999350e+02 8.01999350e+02 8.01999350e+02\n",
      " 8.01999350e+02 8.01999350e+02 8.01999350e+02 8.01999350e+02\n",
      " 8.01999350e+02 8.01999350e+02 8.01999350e+02 8.01999350e+02\n",
      " 8.01999350e+02 8.01999350e+02 8.01999350e+02 8.01999350e+02\n",
      " 8.01999350e+02 8.01999350e+02 8.01999350e+02 8.01999350e+02\n",
      " 8.01999350e+02 8.01999350e+02 8.01999350e+02 8.01999350e+02\n",
      " 8.01999350e+02 8.01999350e+02 8.01999350e+02 8.01999350e+02\n",
      " 8.01999350e+02 8.01999350e+02 8.01999350e+02 8.01999350e+02\n",
      " 8.01999350e+02 8.01999350e+02 8.01999350e+02 8.01999350e+02\n",
      " 8.01999350e+02 8.01999350e+02 5.56800072e+02 5.56800072e+02\n",
      " 5.56800072e+02 5.56800072e+02 5.56800072e+02 5.56800072e+02\n",
      " 5.56800072e+02 5.56800072e+02 5.56800072e+02 5.56800072e+02\n",
      " 5.56800072e+02 5.56800072e+02 5.56800072e+02 5.56800072e+02\n",
      " 5.56800072e+02 5.56800072e+02 5.56800072e+02 5.56800072e+02\n",
      " 5.56800072e+02 5.56800072e+02 5.56800072e+02 5.56800072e+02\n",
      " 5.56800072e+02 5.56800072e+02 5.56800072e+02 5.56800072e+02\n",
      " 5.56800072e+02 5.56800072e+02 5.56800072e+02 5.56800072e+02\n",
      " 5.56800072e+02 5.56800072e+02 5.56800072e+02 5.56800072e+02\n",
      " 5.56800072e+02 5.56800072e+02 5.56800072e+02 5.56800072e+02\n",
      " 5.56800072e+02 5.56800072e+02 5.56800072e+02 5.56800072e+02\n",
      " 5.56800072e+02 5.56800072e+02 5.56800072e+02 5.56800072e+02\n",
      " 5.56800072e+02 5.56800072e+02 5.56800072e+02 5.56800072e+02\n",
      " 5.56800072e+02 5.56800072e+02 5.56800072e+02 5.56800072e+02\n",
      " 5.56800072e+02 5.56800072e+02 5.56800072e+02 5.56800072e+02\n",
      " 5.56800072e+02 5.56800072e+02 5.56800072e+02 5.56800072e+02\n",
      " 5.56800072e+02 5.56800072e+02 5.56800072e+02 5.56800072e+02\n",
      " 5.56800072e+02 5.56800072e+02 5.56800072e+02 5.56800072e+02\n",
      " 5.56800072e+02 5.56800072e+02 5.56800072e+02 5.56800072e+02\n",
      " 5.56800072e+02 5.56800072e+02 5.56800072e+02 1.93508607e+02\n",
      " 1.93508607e+02 1.93508607e+02 1.93508607e+02 1.93508607e+02\n",
      " 1.93508607e+02 1.93508607e+02 1.93508607e+02 1.93508607e+02\n",
      " 1.93508607e+02 1.93508607e+02 1.93508607e+02 1.93508607e+02\n",
      " 1.93508607e+02 1.93508607e+02 1.93508607e+02 1.93508607e+02\n",
      " 1.93508607e+02 1.93508607e+02 1.93508607e+02 1.93508607e+02\n",
      " 1.93508607e+02 1.93508607e+02 1.93508607e+02 1.93508607e+02\n",
      " 1.93508607e+02 1.93508607e+02 1.93508607e+02 1.93508607e+02\n",
      " 1.93508607e+02 1.93508607e+02 1.93508607e+02 1.93508607e+02\n",
      " 1.93508607e+02 1.93508607e+02 1.93508607e+02 1.93508607e+02\n",
      " 1.93508607e+02 1.93508607e+02 1.93508607e+02 1.93508607e+02\n",
      " 1.93508607e+02 4.46263833e+01 4.46263833e+01 4.46263833e+01\n",
      " 4.46263833e+01 4.46263833e+01 4.46263833e+01 4.46263833e+01\n",
      " 4.46263833e+01 4.46263833e+01 2.23718363e-02 2.23718363e-02\n",
      " 2.23718363e-02 2.06989065e+01]\n"
     ]
    }
   ],
   "source": [
    "ChiSquare(Stat(DataSet1),Factorial,DataSet1,SampleSize(DataSet1),Count(DataSet1))\n",
    "ChiSquare(Stat(DataSet2),Factorial,DataSet2,SampleSize(DataSet2),Count(DataSet2))\n",
    "ChiSquare(Stat(DataSet3),Factorial,DataSet3,SampleSize(DataSet3),Count(DataSet3))\n",
    "ChiSquare(Stat(DataSet4),Factorial,DataSet4,SampleSize(DataSet4),Count(DataSet4))"
   ]
  },
  {
   "cell_type": "code",
   "execution_count": null,
   "metadata": {},
   "outputs": [],
   "source": []
  }
 ],
 "metadata": {
  "kernelspec": {
   "display_name": "Python 3",
   "language": "python",
   "name": "python3"
  },
  "language_info": {
   "codemirror_mode": {
    "name": "ipython",
    "version": 3
   },
   "file_extension": ".py",
   "mimetype": "text/x-python",
   "name": "python",
   "nbconvert_exporter": "python",
   "pygments_lexer": "ipython3",
   "version": "3.7.3"
  }
 },
 "nbformat": 4,
 "nbformat_minor": 2
}
